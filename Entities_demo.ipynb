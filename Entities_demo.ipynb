{
 "cells": [
  {
   "cell_type": "code",
   "execution_count": 204,
   "metadata": {
    "collapsed": true
   },
   "outputs": [],
   "source": [
    "import numpy as np\n",
    "import pandas as pd\n",
    "import matplotlib.pyplot as plt\n",
    "import sklearn as sklearn"
   ]
  },
  {
   "cell_type": "markdown",
   "source": [
    "# Import"
   ],
   "metadata": {
    "collapsed": false
   }
  },
  {
   "cell_type": "code",
   "execution_count": 205,
   "outputs": [],
   "source": [
    "INPUT_FILE_PATH = './Entities.csv'"
   ],
   "metadata": {
    "collapsed": false
   }
  },
  {
   "cell_type": "code",
   "execution_count": 206,
   "outputs": [],
   "source": [
    "df = pd.read_csv(INPUT_FILE_PATH)"
   ],
   "metadata": {
    "collapsed": false
   }
  },
  {
   "cell_type": "code",
   "execution_count": 207,
   "outputs": [
    {
     "data": {
      "text/plain": "        Unnamed: 0  property_id  location_id  \\\n0                0       237062         3325   \n1                1       346905         3236   \n2                2       386513          764   \n3                3       656161          340   \n4                4       841645         3226   \n...            ...          ...          ...   \n168441      168441     17355248         6754   \n168442      168442     17355249          680   \n168443      168443     17355250         6757   \n168444      168444     17355251         6752   \n168445      168445     17355287        10045   \n\n                                                 page_url property_type  \\\n0       https://www.zameen.com/Property/g_10_g_10_2_gr...          Flat   \n1       https://www.zameen.com/Property/e_11_2_service...          Flat   \n2       https://www.zameen.com/Property/islamabad_g_15...         House   \n3       https://www.zameen.com/Property/islamabad_bani...         House   \n4       https://www.zameen.com/Property/dha_valley_dha...         House   \n...                                                   ...           ...   \n168441  https://www.zameen.com/Property/gulshan_e_maym...         House   \n168442  https://www.zameen.com/Property/gadap_town_gul...         House   \n168443  https://www.zameen.com/Property/gulshan_e_maym...         House   \n168444  https://www.zameen.com/Property/gulshan_e_maym...         House   \n168445  https://www.zameen.com/Property/bahria_town_ka...         House   \n\n           price             location       city      province_name  \\\n0       10000000                 G-10  Islamabad  Islamabad Capital   \n1        6900000                 E-11  Islamabad  Islamabad Capital   \n2       16500000                 G-15  Islamabad  Islamabad Capital   \n3       43500000            Bani Gala  Islamabad  Islamabad Capital   \n4        7000000          DHA Defence  Islamabad  Islamabad Capital   \n...          ...                  ...        ...                ...   \n168441  26500000           Gadap Town    Karachi              Sindh   \n168442  12500000           Gadap Town    Karachi              Sindh   \n168443  27000000           Gadap Town    Karachi              Sindh   \n168444  11000000           Gadap Town    Karachi              Sindh   \n168445   9000000  Bahria Town Karachi    Karachi              Sindh   \n\n         latitude  longitude  baths   purpose  bedrooms date_added  \\\n0       33.679890  73.012640      2  For Sale         2   2/4/2019   \n1       33.700993  72.971492      3  For Sale         3   5/4/2019   \n2       33.631486  72.926559      6  For Sale         5  7/17/2019   \n3       33.707573  73.151199      4  For Sale         4   4/5/2019   \n4       33.492591  73.301339      3  For Sale         3  7/10/2019   \n...           ...        ...    ...       ...       ...        ...   \n168441  25.029909  67.137192      0  For Sale         6  7/18/2019   \n168442  25.017951  67.136393      0  For Sale         3  7/18/2019   \n168443  25.015384  67.116330      0  For Sale         6  7/18/2019   \n168444  25.013265  67.120818      0  For Sale         3  7/18/2019   \n168445  25.113565  67.353811      3  For Sale         3  7/18/2019   \n\n                            agency  \\\n0                              NaN   \n1                              NaN   \n2                              NaN   \n3                              NaN   \n4                    Easy Property   \n...                            ...   \n168441       Al Shahab Enterprises   \n168442       Al Shahab Enterprises   \n168443       Al Shahab Enterprises   \n168444       Al Shahab Enterprises   \n168445  ZPN Real Estate & Builders   \n\n                                               agent  Total_Area  \n0                                                NaN    1089.004  \n1                                                NaN   15246.056  \n2                                                NaN    2178.008  \n3                                                NaN   10890.000  \n4       Muhammad Junaid Ceo Muhammad Shahid Director    2178.008  \n...                                              ...         ...  \n168441                                       Shahmir   26136.096  \n168442                                       Shahmir    2178.008  \n168443                                       Shahmir   26136.096  \n168444                                       Shahmir   21235.578  \n168445                                      Ali Raza   25591.594  \n\n[168446 rows x 18 columns]",
      "text/html": "<div>\n<style scoped>\n    .dataframe tbody tr th:only-of-type {\n        vertical-align: middle;\n    }\n\n    .dataframe tbody tr th {\n        vertical-align: top;\n    }\n\n    .dataframe thead th {\n        text-align: right;\n    }\n</style>\n<table border=\"1\" class=\"dataframe\">\n  <thead>\n    <tr style=\"text-align: right;\">\n      <th></th>\n      <th>Unnamed: 0</th>\n      <th>property_id</th>\n      <th>location_id</th>\n      <th>page_url</th>\n      <th>property_type</th>\n      <th>price</th>\n      <th>location</th>\n      <th>city</th>\n      <th>province_name</th>\n      <th>latitude</th>\n      <th>longitude</th>\n      <th>baths</th>\n      <th>purpose</th>\n      <th>bedrooms</th>\n      <th>date_added</th>\n      <th>agency</th>\n      <th>agent</th>\n      <th>Total_Area</th>\n    </tr>\n  </thead>\n  <tbody>\n    <tr>\n      <th>0</th>\n      <td>0</td>\n      <td>237062</td>\n      <td>3325</td>\n      <td>https://www.zameen.com/Property/g_10_g_10_2_gr...</td>\n      <td>Flat</td>\n      <td>10000000</td>\n      <td>G-10</td>\n      <td>Islamabad</td>\n      <td>Islamabad Capital</td>\n      <td>33.679890</td>\n      <td>73.012640</td>\n      <td>2</td>\n      <td>For Sale</td>\n      <td>2</td>\n      <td>2/4/2019</td>\n      <td>NaN</td>\n      <td>NaN</td>\n      <td>1089.004</td>\n    </tr>\n    <tr>\n      <th>1</th>\n      <td>1</td>\n      <td>346905</td>\n      <td>3236</td>\n      <td>https://www.zameen.com/Property/e_11_2_service...</td>\n      <td>Flat</td>\n      <td>6900000</td>\n      <td>E-11</td>\n      <td>Islamabad</td>\n      <td>Islamabad Capital</td>\n      <td>33.700993</td>\n      <td>72.971492</td>\n      <td>3</td>\n      <td>For Sale</td>\n      <td>3</td>\n      <td>5/4/2019</td>\n      <td>NaN</td>\n      <td>NaN</td>\n      <td>15246.056</td>\n    </tr>\n    <tr>\n      <th>2</th>\n      <td>2</td>\n      <td>386513</td>\n      <td>764</td>\n      <td>https://www.zameen.com/Property/islamabad_g_15...</td>\n      <td>House</td>\n      <td>16500000</td>\n      <td>G-15</td>\n      <td>Islamabad</td>\n      <td>Islamabad Capital</td>\n      <td>33.631486</td>\n      <td>72.926559</td>\n      <td>6</td>\n      <td>For Sale</td>\n      <td>5</td>\n      <td>7/17/2019</td>\n      <td>NaN</td>\n      <td>NaN</td>\n      <td>2178.008</td>\n    </tr>\n    <tr>\n      <th>3</th>\n      <td>3</td>\n      <td>656161</td>\n      <td>340</td>\n      <td>https://www.zameen.com/Property/islamabad_bani...</td>\n      <td>House</td>\n      <td>43500000</td>\n      <td>Bani Gala</td>\n      <td>Islamabad</td>\n      <td>Islamabad Capital</td>\n      <td>33.707573</td>\n      <td>73.151199</td>\n      <td>4</td>\n      <td>For Sale</td>\n      <td>4</td>\n      <td>4/5/2019</td>\n      <td>NaN</td>\n      <td>NaN</td>\n      <td>10890.000</td>\n    </tr>\n    <tr>\n      <th>4</th>\n      <td>4</td>\n      <td>841645</td>\n      <td>3226</td>\n      <td>https://www.zameen.com/Property/dha_valley_dha...</td>\n      <td>House</td>\n      <td>7000000</td>\n      <td>DHA Defence</td>\n      <td>Islamabad</td>\n      <td>Islamabad Capital</td>\n      <td>33.492591</td>\n      <td>73.301339</td>\n      <td>3</td>\n      <td>For Sale</td>\n      <td>3</td>\n      <td>7/10/2019</td>\n      <td>Easy Property</td>\n      <td>Muhammad Junaid Ceo Muhammad Shahid Director</td>\n      <td>2178.008</td>\n    </tr>\n    <tr>\n      <th>...</th>\n      <td>...</td>\n      <td>...</td>\n      <td>...</td>\n      <td>...</td>\n      <td>...</td>\n      <td>...</td>\n      <td>...</td>\n      <td>...</td>\n      <td>...</td>\n      <td>...</td>\n      <td>...</td>\n      <td>...</td>\n      <td>...</td>\n      <td>...</td>\n      <td>...</td>\n      <td>...</td>\n      <td>...</td>\n      <td>...</td>\n    </tr>\n    <tr>\n      <th>168441</th>\n      <td>168441</td>\n      <td>17355248</td>\n      <td>6754</td>\n      <td>https://www.zameen.com/Property/gulshan_e_maym...</td>\n      <td>House</td>\n      <td>26500000</td>\n      <td>Gadap Town</td>\n      <td>Karachi</td>\n      <td>Sindh</td>\n      <td>25.029909</td>\n      <td>67.137192</td>\n      <td>0</td>\n      <td>For Sale</td>\n      <td>6</td>\n      <td>7/18/2019</td>\n      <td>Al Shahab Enterprises</td>\n      <td>Shahmir</td>\n      <td>26136.096</td>\n    </tr>\n    <tr>\n      <th>168442</th>\n      <td>168442</td>\n      <td>17355249</td>\n      <td>680</td>\n      <td>https://www.zameen.com/Property/gadap_town_gul...</td>\n      <td>House</td>\n      <td>12500000</td>\n      <td>Gadap Town</td>\n      <td>Karachi</td>\n      <td>Sindh</td>\n      <td>25.017951</td>\n      <td>67.136393</td>\n      <td>0</td>\n      <td>For Sale</td>\n      <td>3</td>\n      <td>7/18/2019</td>\n      <td>Al Shahab Enterprises</td>\n      <td>Shahmir</td>\n      <td>2178.008</td>\n    </tr>\n    <tr>\n      <th>168443</th>\n      <td>168443</td>\n      <td>17355250</td>\n      <td>6757</td>\n      <td>https://www.zameen.com/Property/gulshan_e_maym...</td>\n      <td>House</td>\n      <td>27000000</td>\n      <td>Gadap Town</td>\n      <td>Karachi</td>\n      <td>Sindh</td>\n      <td>25.015384</td>\n      <td>67.116330</td>\n      <td>0</td>\n      <td>For Sale</td>\n      <td>6</td>\n      <td>7/18/2019</td>\n      <td>Al Shahab Enterprises</td>\n      <td>Shahmir</td>\n      <td>26136.096</td>\n    </tr>\n    <tr>\n      <th>168444</th>\n      <td>168444</td>\n      <td>17355251</td>\n      <td>6752</td>\n      <td>https://www.zameen.com/Property/gulshan_e_maym...</td>\n      <td>House</td>\n      <td>11000000</td>\n      <td>Gadap Town</td>\n      <td>Karachi</td>\n      <td>Sindh</td>\n      <td>25.013265</td>\n      <td>67.120818</td>\n      <td>0</td>\n      <td>For Sale</td>\n      <td>3</td>\n      <td>7/18/2019</td>\n      <td>Al Shahab Enterprises</td>\n      <td>Shahmir</td>\n      <td>21235.578</td>\n    </tr>\n    <tr>\n      <th>168445</th>\n      <td>168445</td>\n      <td>17355287</td>\n      <td>10045</td>\n      <td>https://www.zameen.com/Property/bahria_town_ka...</td>\n      <td>House</td>\n      <td>9000000</td>\n      <td>Bahria Town Karachi</td>\n      <td>Karachi</td>\n      <td>Sindh</td>\n      <td>25.113565</td>\n      <td>67.353811</td>\n      <td>3</td>\n      <td>For Sale</td>\n      <td>3</td>\n      <td>7/18/2019</td>\n      <td>ZPN Real Estate &amp; Builders</td>\n      <td>Ali Raza</td>\n      <td>25591.594</td>\n    </tr>\n  </tbody>\n</table>\n<p>168446 rows × 18 columns</p>\n</div>"
     },
     "execution_count": 207,
     "metadata": {},
     "output_type": "execute_result"
    }
   ],
   "source": [
    "df"
   ],
   "metadata": {
    "collapsed": false
   }
  },
  {
   "cell_type": "code",
   "execution_count": 208,
   "outputs": [
    {
     "name": "stdout",
     "output_type": "stream",
     "text": [
      "<class 'pandas.core.frame.DataFrame'>\n",
      "RangeIndex: 168446 entries, 0 to 168445\n",
      "Data columns (total 18 columns):\n",
      " #   Column         Non-Null Count   Dtype  \n",
      "---  ------         --------------   -----  \n",
      " 0   Unnamed: 0     168446 non-null  int64  \n",
      " 1   property_id    168446 non-null  int64  \n",
      " 2   location_id    168446 non-null  int64  \n",
      " 3   page_url       168446 non-null  object \n",
      " 4   property_type  168446 non-null  object \n",
      " 5   price          168446 non-null  int64  \n",
      " 6   location       168446 non-null  object \n",
      " 7   city           168446 non-null  object \n",
      " 8   province_name  168446 non-null  object \n",
      " 9   latitude       168446 non-null  float64\n",
      " 10  longitude      168446 non-null  float64\n",
      " 11  baths          168446 non-null  int64  \n",
      " 12  purpose        168446 non-null  object \n",
      " 13  bedrooms       168446 non-null  int64  \n",
      " 14  date_added     168446 non-null  object \n",
      " 15  agency         124375 non-null  object \n",
      " 16  agent          124374 non-null  object \n",
      " 17  Total_Area     168446 non-null  float64\n",
      "dtypes: float64(3), int64(6), object(9)\n",
      "memory usage: 23.1+ MB\n"
     ]
    }
   ],
   "source": [
    "df.info()"
   ],
   "metadata": {
    "collapsed": false
   }
  },
  {
   "cell_type": "code",
   "execution_count": 209,
   "outputs": [
    {
     "data": {
      "text/plain": "          Unnamed: 0   property_id    location_id         price  \\\ncount  168446.000000  1.684460e+05  168446.000000  1.684460e+05   \nmean    84222.500000  1.559626e+07    4375.936395  1.776576e+07   \nstd     48626.316059  2.251207e+06    3776.561581  3.531003e+07   \nmin         0.000000  8.657500e+04       1.000000  0.000000e+00   \n25%     42111.250000  1.488320e+07    1058.000000  1.750000e+05   \n50%     84222.500000  1.665851e+07    3286.000000  8.500000e+06   \n75%    126333.750000  1.708662e+07    7220.000000  1.950000e+07   \nmax    168445.000000  1.735772e+07   14220.000000  2.000000e+09   \n\n            latitude      longitude          baths       bedrooms  \\\ncount  168446.000000  168446.000000  168446.000000  168446.000000   \nmean       29.859519      71.239804       2.874227       3.179422   \nstd         3.807870       3.133042       2.463400       1.971401   \nmin        11.052446      25.906027       0.000000       0.000000   \n25%        24.948536      67.130363       0.000000       2.000000   \n50%        31.459784      73.056182       3.000000       3.000000   \n75%        33.560887      73.259870       4.000000       4.000000   \nmax        73.184088      80.161430     403.000000      68.000000   \n\n         Total_Area  \ncount  1.684460e+05  \nmean   1.394239e+04  \nstd    8.623647e+05  \nmin    0.000000e+00  \n25%    1.905757e+03  \n50%    4.356016e+03  \n75%    1.197904e+04  \nmax    3.387988e+08  ",
      "text/html": "<div>\n<style scoped>\n    .dataframe tbody tr th:only-of-type {\n        vertical-align: middle;\n    }\n\n    .dataframe tbody tr th {\n        vertical-align: top;\n    }\n\n    .dataframe thead th {\n        text-align: right;\n    }\n</style>\n<table border=\"1\" class=\"dataframe\">\n  <thead>\n    <tr style=\"text-align: right;\">\n      <th></th>\n      <th>Unnamed: 0</th>\n      <th>property_id</th>\n      <th>location_id</th>\n      <th>price</th>\n      <th>latitude</th>\n      <th>longitude</th>\n      <th>baths</th>\n      <th>bedrooms</th>\n      <th>Total_Area</th>\n    </tr>\n  </thead>\n  <tbody>\n    <tr>\n      <th>count</th>\n      <td>168446.000000</td>\n      <td>1.684460e+05</td>\n      <td>168446.000000</td>\n      <td>1.684460e+05</td>\n      <td>168446.000000</td>\n      <td>168446.000000</td>\n      <td>168446.000000</td>\n      <td>168446.000000</td>\n      <td>1.684460e+05</td>\n    </tr>\n    <tr>\n      <th>mean</th>\n      <td>84222.500000</td>\n      <td>1.559626e+07</td>\n      <td>4375.936395</td>\n      <td>1.776576e+07</td>\n      <td>29.859519</td>\n      <td>71.239804</td>\n      <td>2.874227</td>\n      <td>3.179422</td>\n      <td>1.394239e+04</td>\n    </tr>\n    <tr>\n      <th>std</th>\n      <td>48626.316059</td>\n      <td>2.251207e+06</td>\n      <td>3776.561581</td>\n      <td>3.531003e+07</td>\n      <td>3.807870</td>\n      <td>3.133042</td>\n      <td>2.463400</td>\n      <td>1.971401</td>\n      <td>8.623647e+05</td>\n    </tr>\n    <tr>\n      <th>min</th>\n      <td>0.000000</td>\n      <td>8.657500e+04</td>\n      <td>1.000000</td>\n      <td>0.000000e+00</td>\n      <td>11.052446</td>\n      <td>25.906027</td>\n      <td>0.000000</td>\n      <td>0.000000</td>\n      <td>0.000000e+00</td>\n    </tr>\n    <tr>\n      <th>25%</th>\n      <td>42111.250000</td>\n      <td>1.488320e+07</td>\n      <td>1058.000000</td>\n      <td>1.750000e+05</td>\n      <td>24.948536</td>\n      <td>67.130363</td>\n      <td>0.000000</td>\n      <td>2.000000</td>\n      <td>1.905757e+03</td>\n    </tr>\n    <tr>\n      <th>50%</th>\n      <td>84222.500000</td>\n      <td>1.665851e+07</td>\n      <td>3286.000000</td>\n      <td>8.500000e+06</td>\n      <td>31.459784</td>\n      <td>73.056182</td>\n      <td>3.000000</td>\n      <td>3.000000</td>\n      <td>4.356016e+03</td>\n    </tr>\n    <tr>\n      <th>75%</th>\n      <td>126333.750000</td>\n      <td>1.708662e+07</td>\n      <td>7220.000000</td>\n      <td>1.950000e+07</td>\n      <td>33.560887</td>\n      <td>73.259870</td>\n      <td>4.000000</td>\n      <td>4.000000</td>\n      <td>1.197904e+04</td>\n    </tr>\n    <tr>\n      <th>max</th>\n      <td>168445.000000</td>\n      <td>1.735772e+07</td>\n      <td>14220.000000</td>\n      <td>2.000000e+09</td>\n      <td>73.184088</td>\n      <td>80.161430</td>\n      <td>403.000000</td>\n      <td>68.000000</td>\n      <td>3.387988e+08</td>\n    </tr>\n  </tbody>\n</table>\n</div>"
     },
     "execution_count": 209,
     "metadata": {},
     "output_type": "execute_result"
    }
   ],
   "source": [
    "df.describe()"
   ],
   "metadata": {
    "collapsed": false
   }
  },
  {
   "cell_type": "code",
   "execution_count": 210,
   "outputs": [],
   "source": [
    "X = df[['Total_Area']].copy()"
   ],
   "metadata": {
    "collapsed": false
   }
  },
  {
   "cell_type": "code",
   "execution_count": 211,
   "outputs": [
    {
     "data": {
      "text/plain": "pandas.core.frame.DataFrame"
     },
     "execution_count": 211,
     "metadata": {},
     "output_type": "execute_result"
    }
   ],
   "source": [
    "type(X)"
   ],
   "metadata": {
    "collapsed": false
   }
  },
  {
   "cell_type": "code",
   "execution_count": 212,
   "outputs": [
    {
     "data": {
      "text/plain": "        Total_Area\n0         1089.004\n1        15246.056\n2         2178.008\n3        10890.000\n4         2178.008\n...            ...\n168441   26136.096\n168442    2178.008\n168443   26136.096\n168444   21235.578\n168445   25591.594\n\n[168446 rows x 1 columns]",
      "text/html": "<div>\n<style scoped>\n    .dataframe tbody tr th:only-of-type {\n        vertical-align: middle;\n    }\n\n    .dataframe tbody tr th {\n        vertical-align: top;\n    }\n\n    .dataframe thead th {\n        text-align: right;\n    }\n</style>\n<table border=\"1\" class=\"dataframe\">\n  <thead>\n    <tr style=\"text-align: right;\">\n      <th></th>\n      <th>Total_Area</th>\n    </tr>\n  </thead>\n  <tbody>\n    <tr>\n      <th>0</th>\n      <td>1089.004</td>\n    </tr>\n    <tr>\n      <th>1</th>\n      <td>15246.056</td>\n    </tr>\n    <tr>\n      <th>2</th>\n      <td>2178.008</td>\n    </tr>\n    <tr>\n      <th>3</th>\n      <td>10890.000</td>\n    </tr>\n    <tr>\n      <th>4</th>\n      <td>2178.008</td>\n    </tr>\n    <tr>\n      <th>...</th>\n      <td>...</td>\n    </tr>\n    <tr>\n      <th>168441</th>\n      <td>26136.096</td>\n    </tr>\n    <tr>\n      <th>168442</th>\n      <td>2178.008</td>\n    </tr>\n    <tr>\n      <th>168443</th>\n      <td>26136.096</td>\n    </tr>\n    <tr>\n      <th>168444</th>\n      <td>21235.578</td>\n    </tr>\n    <tr>\n      <th>168445</th>\n      <td>25591.594</td>\n    </tr>\n  </tbody>\n</table>\n<p>168446 rows × 1 columns</p>\n</div>"
     },
     "execution_count": 212,
     "metadata": {},
     "output_type": "execute_result"
    }
   ],
   "source": [
    "X"
   ],
   "metadata": {
    "collapsed": false
   }
  },
  {
   "cell_type": "code",
   "execution_count": 213,
   "outputs": [],
   "source": [
    "y = df['price']"
   ],
   "metadata": {
    "collapsed": false
   }
  },
  {
   "cell_type": "code",
   "execution_count": 214,
   "outputs": [
    {
     "data": {
      "text/plain": "0         10000000\n1          6900000\n2         16500000\n3         43500000\n4          7000000\n            ...   \n168441    26500000\n168442    12500000\n168443    27000000\n168444    11000000\n168445     9000000\nName: price, Length: 168446, dtype: int64"
     },
     "execution_count": 214,
     "metadata": {},
     "output_type": "execute_result"
    }
   ],
   "source": [
    "y"
   ],
   "metadata": {
    "collapsed": false
   }
  },
  {
   "cell_type": "code",
   "execution_count": 215,
   "outputs": [
    {
     "data": {
      "text/plain": "(array([1.68441e+05, 1.00000e+00, 0.00000e+00, 2.00000e+00, 0.00000e+00,\n        0.00000e+00, 0.00000e+00, 0.00000e+00, 0.00000e+00, 0.00000e+00,\n        0.00000e+00, 0.00000e+00, 0.00000e+00, 1.00000e+00, 0.00000e+00,\n        0.00000e+00, 0.00000e+00, 0.00000e+00, 0.00000e+00, 0.00000e+00,\n        0.00000e+00, 0.00000e+00, 0.00000e+00, 0.00000e+00, 0.00000e+00,\n        0.00000e+00, 0.00000e+00, 0.00000e+00, 0.00000e+00, 0.00000e+00,\n        0.00000e+00, 0.00000e+00, 0.00000e+00, 0.00000e+00, 0.00000e+00,\n        0.00000e+00, 0.00000e+00, 0.00000e+00, 0.00000e+00, 0.00000e+00,\n        0.00000e+00, 0.00000e+00, 0.00000e+00, 0.00000e+00, 0.00000e+00,\n        0.00000e+00, 0.00000e+00, 0.00000e+00, 0.00000e+00, 1.00000e+00]),\n array([0.00000000e+00, 6.77597580e+06, 1.35519516e+07, 2.03279274e+07,\n        2.71039032e+07, 3.38798790e+07, 4.06558548e+07, 4.74318306e+07,\n        5.42078064e+07, 6.09837822e+07, 6.77597580e+07, 7.45357338e+07,\n        8.13117096e+07, 8.80876854e+07, 9.48636612e+07, 1.01639637e+08,\n        1.08415613e+08, 1.15191589e+08, 1.21967564e+08, 1.28743540e+08,\n        1.35519516e+08, 1.42295492e+08, 1.49071468e+08, 1.55847443e+08,\n        1.62623419e+08, 1.69399395e+08, 1.76175371e+08, 1.82951347e+08,\n        1.89727322e+08, 1.96503298e+08, 2.03279274e+08, 2.10055250e+08,\n        2.16831226e+08, 2.23607201e+08, 2.30383177e+08, 2.37159153e+08,\n        2.43935129e+08, 2.50711105e+08, 2.57487080e+08, 2.64263056e+08,\n        2.71039032e+08, 2.77815008e+08, 2.84590984e+08, 2.91366959e+08,\n        2.98142935e+08, 3.04918911e+08, 3.11694887e+08, 3.18470863e+08,\n        3.25246838e+08, 3.32022814e+08, 3.38798790e+08]),\n <BarContainer object of 50 artists>)"
     },
     "execution_count": 215,
     "metadata": {},
     "output_type": "execute_result"
    },
    {
     "data": {
      "text/plain": "<Figure size 640x480 with 1 Axes>",
      "image/png": "[encoded data removed]"
     },
     "metadata": {},
     "output_type": "display_data"
    }
   ],
   "source": [
    "plt.hist(X, bins=50)"
   ],
   "metadata": {
    "collapsed": false
   }
  },
  {
   "cell_type": "code",
   "execution_count": 216,
   "outputs": [
    {
     "data": {
      "text/plain": "(array([1.2671e+05, 2.2635e+04, 9.2450e+03, 3.5100e+03, 1.8170e+03,\n        1.2150e+03, 8.9900e+02, 6.5500e+02, 3.7100e+02, 3.3800e+02,\n        2.0500e+02, 1.4500e+02, 1.6700e+02, 7.7000e+01, 8.4000e+01,\n        9.3000e+01, 3.8000e+01, 6.3000e+01, 2.0000e+01, 1.6000e+01,\n        3.2000e+01, 1.2000e+01, 1.9000e+01, 3.0000e+00, 4.0000e+00,\n        9.0000e+00, 1.0000e+00, 1.4000e+01, 1.0000e+00, 0.0000e+00,\n        8.0000e+00, 1.0000e+00, 7.0000e+00, 1.0000e+00, 1.0000e+00,\n        3.0000e+00, 1.0000e+00, 5.0000e+00, 0.0000e+00, 0.0000e+00,\n        2.0000e+00, 0.0000e+00, 4.0000e+00, 0.0000e+00, 1.0000e+00,\n        2.0000e+00, 1.0000e+00, 0.0000e+00, 1.0000e+00, 0.0000e+00,\n        2.0000e+00, 0.0000e+00, 0.0000e+00, 0.0000e+00, 0.0000e+00,\n        0.0000e+00, 0.0000e+00, 0.0000e+00, 0.0000e+00, 0.0000e+00,\n        1.0000e+00, 0.0000e+00, 2.0000e+00, 1.0000e+00, 0.0000e+00,\n        0.0000e+00, 0.0000e+00, 1.0000e+00, 0.0000e+00, 0.0000e+00,\n        0.0000e+00, 1.0000e+00, 1.0000e+00, 0.0000e+00, 0.0000e+00,\n        0.0000e+00, 0.0000e+00, 0.0000e+00, 0.0000e+00, 0.0000e+00,\n        0.0000e+00, 0.0000e+00, 0.0000e+00, 0.0000e+00, 0.0000e+00,\n        0.0000e+00, 0.0000e+00, 0.0000e+00, 0.0000e+00, 0.0000e+00,\n        0.0000e+00, 0.0000e+00, 0.0000e+00, 0.0000e+00, 0.0000e+00,\n        0.0000e+00, 0.0000e+00, 0.0000e+00, 0.0000e+00, 1.0000e+00]),\n array([0.00e+00, 2.00e+07, 4.00e+07, 6.00e+07, 8.00e+07, 1.00e+08,\n        1.20e+08, 1.40e+08, 1.60e+08, 1.80e+08, 2.00e+08, 2.20e+08,\n        2.40e+08, 2.60e+08, 2.80e+08, 3.00e+08, 3.20e+08, 3.40e+08,\n        3.60e+08, 3.80e+08, 4.00e+08, 4.20e+08, 4.40e+08, 4.60e+08,\n        4.80e+08, 5.00e+08, 5.20e+08, 5.40e+08, 5.60e+08, 5.80e+08,\n        6.00e+08, 6.20e+08, 6.40e+08, 6.60e+08, 6.80e+08, 7.00e+08,\n        7.20e+08, 7.40e+08, 7.60e+08, 7.80e+08, 8.00e+08, 8.20e+08,\n        8.40e+08, 8.60e+08, 8.80e+08, 9.00e+08, 9.20e+08, 9.40e+08,\n        9.60e+08, 9.80e+08, 1.00e+09, 1.02e+09, 1.04e+09, 1.06e+09,\n        1.08e+09, 1.10e+09, 1.12e+09, 1.14e+09, 1.16e+09, 1.18e+09,\n        1.20e+09, 1.22e+09, 1.24e+09, 1.26e+09, 1.28e+09, 1.30e+09,\n        1.32e+09, 1.34e+09, 1.36e+09, 1.38e+09, 1.40e+09, 1.42e+09,\n        1.44e+09, 1.46e+09, 1.48e+09, 1.50e+09, 1.52e+09, 1.54e+09,\n        1.56e+09, 1.58e+09, 1.60e+09, 1.62e+09, 1.64e+09, 1.66e+09,\n        1.68e+09, 1.70e+09, 1.72e+09, 1.74e+09, 1.76e+09, 1.78e+09,\n        1.80e+09, 1.82e+09, 1.84e+09, 1.86e+09, 1.88e+09, 1.90e+09,\n        1.92e+09, 1.94e+09, 1.96e+09, 1.98e+09, 2.00e+09]),\n <BarContainer object of 100 artists>)"
     },
     "execution_count": 216,
     "metadata": {},
     "output_type": "execute_result"
    },
    {
     "data": {
      "text/plain": "<Figure size 640x480 with 1 Axes>",
      "image/png": "[encoded data removed]"
     },
     "metadata": {},
     "output_type": "display_data"
    }
   ],
   "source": [
    "plt.hist(y, bins=100)"
   ],
   "metadata": {
    "collapsed": false
   }
  },
  {
   "cell_type": "code",
   "execution_count": 217,
   "outputs": [
    {
     "data": {
      "text/plain": "Total_Area    13942.39353\ndtype: float64"
     },
     "execution_count": 217,
     "metadata": {},
     "output_type": "execute_result"
    }
   ],
   "source": [
    "X.mean()"
   ],
   "metadata": {
    "collapsed": false
   }
  },
  {
   "cell_type": "code",
   "execution_count": 218,
   "outputs": [
    {
     "name": "stderr",
     "output_type": "stream",
     "text": [
      "/home/eog/Documents/Python_pr/python-ai/.venv/lib/python3.10/site-packages/numpy/core/fromnumeric.py:3430: FutureWarning: In a future version, DataFrame.mean(axis=None) will return a scalar mean over the entire DataFrame. To retain the old behavior, use 'frame.mean(axis=0)' or just 'frame.mean()'\n",
      "  return mean(axis=axis, dtype=dtype, out=out, **kwargs)\n"
     ]
    },
    {
     "data": {
      "text/plain": "Total_Area    13942.39353\ndtype: float64"
     },
     "execution_count": 218,
     "metadata": {},
     "output_type": "execute_result"
    }
   ],
   "source": [
    "np.mean(X)"
   ],
   "metadata": {
    "collapsed": false
   }
  },
  {
   "cell_type": "code",
   "execution_count": 219,
   "outputs": [
    {
     "data": {
      "text/plain": "Total_Area    862364.74004\ndtype: float64"
     },
     "execution_count": 219,
     "metadata": {},
     "output_type": "execute_result"
    }
   ],
   "source": [
    "X.std()"
   ],
   "metadata": {
    "collapsed": false
   }
  },
  {
   "cell_type": "code",
   "execution_count": 219,
   "outputs": [],
   "source": [],
   "metadata": {
    "collapsed": false
   }
  },
  {
   "cell_type": "code",
   "execution_count": 220,
   "outputs": [],
   "source": [
    "anomaly_inputs = ['price', 'Total_Area', 'latitude', 'longitude', 'baths', 'bedrooms']"
   ],
   "metadata": {
    "collapsed": false
   }
  },
  {
   "cell_type": "code",
   "execution_count": 221,
   "outputs": [],
   "source": [
    "from sklearn.ensemble import IsolationForest\n",
    "clf = IsolationForest(random_state=0).fit(df[anomaly_inputs])\n",
    "outliers = clf.predict(df[anomaly_inputs])"
   ],
   "metadata": {
    "collapsed": false
   }
  },
  {
   "cell_type": "code",
   "execution_count": 222,
   "outputs": [],
   "source": [
    "df['outliers'] = outliers"
   ],
   "metadata": {
    "collapsed": false
   }
  },
  {
   "cell_type": "code",
   "execution_count": 223,
   "outputs": [
    {
     "data": {
      "text/plain": " 1    138730\n-1     29716\nName: outliers, dtype: int64"
     },
     "execution_count": 223,
     "metadata": {},
     "output_type": "execute_result"
    }
   ],
   "source": [
    "df['outliers'].value_counts()"
   ],
   "metadata": {
    "collapsed": false
   }
  },
  {
   "cell_type": "code",
   "execution_count": 224,
   "outputs": [
    {
     "data": {
      "text/plain": "816.7529999999999"
     },
     "execution_count": 224,
     "metadata": {},
     "output_type": "execute_result"
    }
   ],
   "source": [
    "np.percentile(X, 5)"
   ],
   "metadata": {
    "collapsed": false
   }
  },
  {
   "cell_type": "code",
   "execution_count": 225,
   "outputs": [
    {
     "data": {
      "text/plain": "38659.642"
     },
     "execution_count": 225,
     "metadata": {},
     "output_type": "execute_result"
    }
   ],
   "source": [
    "np.percentile(X, 95)"
   ],
   "metadata": {
    "collapsed": false
   }
  },
  {
   "cell_type": "code",
   "execution_count": 226,
   "outputs": [
    {
     "data": {
      "text/plain": "        Total_Area\n0         1089.004\n1        15246.056\n2         2178.008\n3        10890.000\n4         2178.008\n...            ...\n168441   26136.096\n168442    2178.008\n168443   26136.096\n168444   21235.578\n168445   25591.594\n\n[168446 rows x 1 columns]",
      "text/html": "<div>\n<style scoped>\n    .dataframe tbody tr th:only-of-type {\n        vertical-align: middle;\n    }\n\n    .dataframe tbody tr th {\n        vertical-align: top;\n    }\n\n    .dataframe thead th {\n        text-align: right;\n    }\n</style>\n<table border=\"1\" class=\"dataframe\">\n  <thead>\n    <tr style=\"text-align: right;\">\n      <th></th>\n      <th>Total_Area</th>\n    </tr>\n  </thead>\n  <tbody>\n    <tr>\n      <th>0</th>\n      <td>1089.004</td>\n    </tr>\n    <tr>\n      <th>1</th>\n      <td>15246.056</td>\n    </tr>\n    <tr>\n      <th>2</th>\n      <td>2178.008</td>\n    </tr>\n    <tr>\n      <th>3</th>\n      <td>10890.000</td>\n    </tr>\n    <tr>\n      <th>4</th>\n      <td>2178.008</td>\n    </tr>\n    <tr>\n      <th>...</th>\n      <td>...</td>\n    </tr>\n    <tr>\n      <th>168441</th>\n      <td>26136.096</td>\n    </tr>\n    <tr>\n      <th>168442</th>\n      <td>2178.008</td>\n    </tr>\n    <tr>\n      <th>168443</th>\n      <td>26136.096</td>\n    </tr>\n    <tr>\n      <th>168444</th>\n      <td>21235.578</td>\n    </tr>\n    <tr>\n      <th>168445</th>\n      <td>25591.594</td>\n    </tr>\n  </tbody>\n</table>\n<p>168446 rows × 1 columns</p>\n</div>"
     },
     "execution_count": 226,
     "metadata": {},
     "output_type": "execute_result"
    }
   ],
   "source": [
    "X"
   ],
   "metadata": {
    "collapsed": false
   }
  },
  {
   "cell_type": "code",
   "execution_count": 227,
   "outputs": [],
   "source": [
    "X_train = X[:7000]\n",
    "X_test = X[7000:]"
   ],
   "metadata": {
    "collapsed": false
   }
  },
  {
   "cell_type": "code",
   "execution_count": 228,
   "outputs": [
    {
     "data": {
      "text/plain": "      Total_Area\n0       1089.004\n1      15246.056\n2       2178.008\n3      10890.000\n4       2178.008\n...          ...\n6995   12795.797\n6996   10345.538\n6997    9256.534\n6998    1905.757\n6999    5445.000\n\n[7000 rows x 1 columns]",
      "text/html": "<div>\n<style scoped>\n    .dataframe tbody tr th:only-of-type {\n        vertical-align: middle;\n    }\n\n    .dataframe tbody tr th {\n        vertical-align: top;\n    }\n\n    .dataframe thead th {\n        text-align: right;\n    }\n</style>\n<table border=\"1\" class=\"dataframe\">\n  <thead>\n    <tr style=\"text-align: right;\">\n      <th></th>\n      <th>Total_Area</th>\n    </tr>\n  </thead>\n  <tbody>\n    <tr>\n      <th>0</th>\n      <td>1089.004</td>\n    </tr>\n    <tr>\n      <th>1</th>\n      <td>15246.056</td>\n    </tr>\n    <tr>\n      <th>2</th>\n      <td>2178.008</td>\n    </tr>\n    <tr>\n      <th>3</th>\n      <td>10890.000</td>\n    </tr>\n    <tr>\n      <th>4</th>\n      <td>2178.008</td>\n    </tr>\n    <tr>\n      <th>...</th>\n      <td>...</td>\n    </tr>\n    <tr>\n      <th>6995</th>\n      <td>12795.797</td>\n    </tr>\n    <tr>\n      <th>6996</th>\n      <td>10345.538</td>\n    </tr>\n    <tr>\n      <th>6997</th>\n      <td>9256.534</td>\n    </tr>\n    <tr>\n      <th>6998</th>\n      <td>1905.757</td>\n    </tr>\n    <tr>\n      <th>6999</th>\n      <td>5445.000</td>\n    </tr>\n  </tbody>\n</table>\n<p>7000 rows × 1 columns</p>\n</div>"
     },
     "execution_count": 228,
     "metadata": {},
     "output_type": "execute_result"
    }
   ],
   "source": [
    "X_train"
   ],
   "metadata": {
    "collapsed": false
   }
  },
  {
   "cell_type": "code",
   "execution_count": 229,
   "outputs": [],
   "source": [
    "from sklearn.model_selection import train_test_split\n",
    "\n",
    "X_train, X_test, y_train, y_test = train_test_split(X, y, test_size=0.3, random_state=42)"
   ],
   "metadata": {
    "collapsed": false
   }
  },
  {
   "cell_type": "code",
   "execution_count": 230,
   "outputs": [
    {
     "data": {
      "text/plain": "        Total_Area\n52865     8984.283\n117841    2722.510\n78577    29675.359\n34765     2722.510\n23369   103455.000\n...            ...\n119879    2722.510\n103694    1361.255\n131932    2722.510\n146867   65340.000\n121958     544.502\n\n[117912 rows x 1 columns]",
      "text/html": "<div>\n<style scoped>\n    .dataframe tbody tr th:only-of-type {\n        vertical-align: middle;\n    }\n\n    .dataframe tbody tr th {\n        vertical-align: top;\n    }\n\n    .dataframe thead th {\n        text-align: right;\n    }\n</style>\n<table border=\"1\" class=\"dataframe\">\n  <thead>\n    <tr style=\"text-align: right;\">\n      <th></th>\n      <th>Total_Area</th>\n    </tr>\n  </thead>\n  <tbody>\n    <tr>\n      <th>52865</th>\n      <td>8984.283</td>\n    </tr>\n    <tr>\n      <th>117841</th>\n      <td>2722.510</td>\n    </tr>\n    <tr>\n      <th>78577</th>\n      <td>29675.359</td>\n    </tr>\n    <tr>\n      <th>34765</th>\n      <td>2722.510</td>\n    </tr>\n    <tr>\n      <th>23369</th>\n      <td>103455.000</td>\n    </tr>\n    <tr>\n      <th>...</th>\n      <td>...</td>\n    </tr>\n    <tr>\n      <th>119879</th>\n      <td>2722.510</td>\n    </tr>\n    <tr>\n      <th>103694</th>\n      <td>1361.255</td>\n    </tr>\n    <tr>\n      <th>131932</th>\n      <td>2722.510</td>\n    </tr>\n    <tr>\n      <th>146867</th>\n      <td>65340.000</td>\n    </tr>\n    <tr>\n      <th>121958</th>\n      <td>544.502</td>\n    </tr>\n  </tbody>\n</table>\n<p>117912 rows × 1 columns</p>\n</div>"
     },
     "execution_count": 230,
     "metadata": {},
     "output_type": "execute_result"
    }
   ],
   "source": [
    "X_train"
   ],
   "metadata": {
    "collapsed": false
   }
  },
  {
   "cell_type": "code",
   "execution_count": 231,
   "outputs": [],
   "source": [
    "from sklearn import linear_model"
   ],
   "metadata": {
    "collapsed": false
   }
  },
  {
   "cell_type": "code",
   "execution_count": 232,
   "outputs": [],
   "source": [
    "reg = linear_model.SGDRegressor()"
   ],
   "metadata": {
    "collapsed": false
   }
  },
  {
   "cell_type": "code",
   "execution_count": 233,
   "outputs": [
    {
     "data": {
      "text/plain": "SGDRegressor()",
      "text/html": "<style>#sk-container-id-14 {color: black;background-color: white;}#sk-container-id-14 pre{padding: 0;}#sk-container-id-14 div.sk-toggleable {background-color: white;}#sk-container-id-14 label.sk-toggleable__label {cursor: pointer;display: block;width: 100%;margin-bottom: 0;padding: 0.3em;box-sizing: border-box;text-align: center;}#sk-container-id-14 label.sk-toggleable__label-arrow:before {content: \"▸\";float: left;margin-right: 0.25em;color: #696969;}#sk-container-id-14 label.sk-toggleable__label-arrow:hover:before {color: black;}#sk-container-id-14 div.sk-estimator:hover label.sk-toggleable__label-arrow:before {color: black;}#sk-container-id-14 div.sk-toggleable__content {max-height: 0;max-width: 0;overflow: hidden;text-align: left;background-color: #f0f8ff;}#sk-container-id-14 div.sk-toggleable__content pre {margin: 0.2em;color: black;border-radius: 0.25em;background-color: #f0f8ff;}#sk-container-id-14 input.sk-toggleable__control:checked~div.sk-toggleable__content {max-height: 200px;max-width: 100%;overflow: auto;}#sk-container-id-14 input.sk-toggleable__control:checked~label.sk-toggleable__label-arrow:before {content: \"▾\";}#sk-container-id-14 div.sk-estimator input.sk-toggleable__control:checked~label.sk-toggleable__label {background-color: #d4ebff;}#sk-container-id-14 div.sk-label input.sk-toggleable__control:checked~label.sk-toggleable__label {background-color: #d4ebff;}#sk-container-id-14 input.sk-hidden--visually {border: 0;clip: rect(1px 1px 1px 1px);clip: rect(1px, 1px, 1px, 1px);height: 1px;margin: -1px;overflow: hidden;padding: 0;position: absolute;width: 1px;}#sk-container-id-14 div.sk-estimator {font-family: monospace;background-color: #f0f8ff;border: 1px dotted black;border-radius: 0.25em;box-sizing: border-box;margin-bottom: 0.5em;}#sk-container-id-14 div.sk-estimator:hover {background-color: #d4ebff;}#sk-container-id-14 div.sk-parallel-item::after {content: \"\";width: 100%;border-bottom: 1px solid gray;flex-grow: 1;}#sk-container-id-14 div.sk-label:hover label.sk-toggleable__label {background-color: #d4ebff;}#sk-container-id-14 div.sk-serial::before {content: \"\";position: absolute;border-left: 1px solid gray;box-sizing: border-box;top: 0;bottom: 0;left: 50%;z-index: 0;}#sk-container-id-14 div.sk-serial {display: flex;flex-direction: column;align-items: center;background-color: white;padding-right: 0.2em;padding-left: 0.2em;position: relative;}#sk-container-id-14 div.sk-item {position: relative;z-index: 1;}#sk-container-id-14 div.sk-parallel {display: flex;align-items: stretch;justify-content: center;background-color: white;position: relative;}#sk-container-id-14 div.sk-item::before, #sk-container-id-14 div.sk-parallel-item::before {content: \"\";position: absolute;border-left: 1px solid gray;box-sizing: border-box;top: 0;bottom: 0;left: 50%;z-index: -1;}#sk-container-id-14 div.sk-parallel-item {display: flex;flex-direction: column;z-index: 1;position: relative;background-color: white;}#sk-container-id-14 div.sk-parallel-item:first-child::after {align-self: flex-end;width: 50%;}#sk-container-id-14 div.sk-parallel-item:last-child::after {align-self: flex-start;width: 50%;}#sk-container-id-14 div.sk-parallel-item:only-child::after {width: 0;}#sk-container-id-14 div.sk-dashed-wrapped {border: 1px dashed gray;margin: 0 0.4em 0.5em 0.4em;box-sizing: border-box;padding-bottom: 0.4em;background-color: white;}#sk-container-id-14 div.sk-label label {font-family: monospace;font-weight: bold;display: inline-block;line-height: 1.2em;}#sk-container-id-14 div.sk-label-container {text-align: center;}#sk-container-id-14 div.sk-container {/* jupyter's `normalize.less` sets `[hidden] { display: none; }` but bootstrap.min.css set `[hidden] { display: none !important; }` so we also need the `!important` here to be able to override the default hidden behavior on the sphinx rendered scikit-learn.org. See: https://github.com/scikit-learn/scikit-learn/issues/21755 */display: inline-block !important;position: relative;}#sk-container-id-14 div.sk-text-repr-fallback {display: none;}</style><div id=\"sk-container-id-14\" class=\"sk-top-container\"><div class=\"sk-text-repr-fallback\"><pre>SGDRegressor()</pre><b>In a Jupyter environment, please rerun this cell to show the HTML representation or trust the notebook. <br />On GitHub, the HTML representation is unable to render, please try loading this page with nbviewer.org.</b></div><div class=\"sk-container\" hidden><div class=\"sk-item\"><div class=\"sk-estimator sk-toggleable\"><input class=\"sk-toggleable__control sk-hidden--visually\" id=\"sk-estimator-id-14\" type=\"checkbox\" checked><label for=\"sk-estimator-id-14\" class=\"sk-toggleable__label sk-toggleable__label-arrow\">SGDRegressor</label><div class=\"sk-toggleable__content\"><pre>SGDRegressor()</pre></div></div></div></div></div>"
     },
     "execution_count": 233,
     "metadata": {},
     "output_type": "execute_result"
    }
   ],
   "source": [
    "reg"
   ],
   "metadata": {
    "collapsed": false
   }
  },
  {
   "cell_type": "code",
   "execution_count": 234,
   "outputs": [
    {
     "data": {
      "text/plain": "SGDRegressor()",
      "text/html": "<style>#sk-container-id-15 {color: black;background-color: white;}#sk-container-id-15 pre{padding: 0;}#sk-container-id-15 div.sk-toggleable {background-color: white;}#sk-container-id-15 label.sk-toggleable__label {cursor: pointer;display: block;width: 100%;margin-bottom: 0;padding: 0.3em;box-sizing: border-box;text-align: center;}#sk-container-id-15 label.sk-toggleable__label-arrow:before {content: \"▸\";float: left;margin-right: 0.25em;color: #696969;}#sk-container-id-15 label.sk-toggleable__label-arrow:hover:before {color: black;}#sk-container-id-15 div.sk-estimator:hover label.sk-toggleable__label-arrow:before {color: black;}#sk-container-id-15 div.sk-toggleable__content {max-height: 0;max-width: 0;overflow: hidden;text-align: left;background-color: #f0f8ff;}#sk-container-id-15 div.sk-toggleable__content pre {margin: 0.2em;color: black;border-radius: 0.25em;background-color: #f0f8ff;}#sk-container-id-15 input.sk-toggleable__control:checked~div.sk-toggleable__content {max-height: 200px;max-width: 100%;overflow: auto;}#sk-container-id-15 input.sk-toggleable__control:checked~label.sk-toggleable__label-arrow:before {content: \"▾\";}#sk-container-id-15 div.sk-estimator input.sk-toggleable__control:checked~label.sk-toggleable__label {background-color: #d4ebff;}#sk-container-id-15 div.sk-label input.sk-toggleable__control:checked~label.sk-toggleable__label {background-color: #d4ebff;}#sk-container-id-15 input.sk-hidden--visually {border: 0;clip: rect(1px 1px 1px 1px);clip: rect(1px, 1px, 1px, 1px);height: 1px;margin: -1px;overflow: hidden;padding: 0;position: absolute;width: 1px;}#sk-container-id-15 div.sk-estimator {font-family: monospace;background-color: #f0f8ff;border: 1px dotted black;border-radius: 0.25em;box-sizing: border-box;margin-bottom: 0.5em;}#sk-container-id-15 div.sk-estimator:hover {background-color: #d4ebff;}#sk-container-id-15 div.sk-parallel-item::after {content: \"\";width: 100%;border-bottom: 1px solid gray;flex-grow: 1;}#sk-container-id-15 div.sk-label:hover label.sk-toggleable__label {background-color: #d4ebff;}#sk-container-id-15 div.sk-serial::before {content: \"\";position: absolute;border-left: 1px solid gray;box-sizing: border-box;top: 0;bottom: 0;left: 50%;z-index: 0;}#sk-container-id-15 div.sk-serial {display: flex;flex-direction: column;align-items: center;background-color: white;padding-right: 0.2em;padding-left: 0.2em;position: relative;}#sk-container-id-15 div.sk-item {position: relative;z-index: 1;}#sk-container-id-15 div.sk-parallel {display: flex;align-items: stretch;justify-content: center;background-color: white;position: relative;}#sk-container-id-15 div.sk-item::before, #sk-container-id-15 div.sk-parallel-item::before {content: \"\";position: absolute;border-left: 1px solid gray;box-sizing: border-box;top: 0;bottom: 0;left: 50%;z-index: -1;}#sk-container-id-15 div.sk-parallel-item {display: flex;flex-direction: column;z-index: 1;position: relative;background-color: white;}#sk-container-id-15 div.sk-parallel-item:first-child::after {align-self: flex-end;width: 50%;}#sk-container-id-15 div.sk-parallel-item:last-child::after {align-self: flex-start;width: 50%;}#sk-container-id-15 div.sk-parallel-item:only-child::after {width: 0;}#sk-container-id-15 div.sk-dashed-wrapped {border: 1px dashed gray;margin: 0 0.4em 0.5em 0.4em;box-sizing: border-box;padding-bottom: 0.4em;background-color: white;}#sk-container-id-15 div.sk-label label {font-family: monospace;font-weight: bold;display: inline-block;line-height: 1.2em;}#sk-container-id-15 div.sk-label-container {text-align: center;}#sk-container-id-15 div.sk-container {/* jupyter's `normalize.less` sets `[hidden] { display: none; }` but bootstrap.min.css set `[hidden] { display: none !important; }` so we also need the `!important` here to be able to override the default hidden behavior on the sphinx rendered scikit-learn.org. See: https://github.com/scikit-learn/scikit-learn/issues/21755 */display: inline-block !important;position: relative;}#sk-container-id-15 div.sk-text-repr-fallback {display: none;}</style><div id=\"sk-container-id-15\" class=\"sk-top-container\"><div class=\"sk-text-repr-fallback\"><pre>SGDRegressor()</pre><b>In a Jupyter environment, please rerun this cell to show the HTML representation or trust the notebook. <br />On GitHub, the HTML representation is unable to render, please try loading this page with nbviewer.org.</b></div><div class=\"sk-container\" hidden><div class=\"sk-item\"><div class=\"sk-estimator sk-toggleable\"><input class=\"sk-toggleable__control sk-hidden--visually\" id=\"sk-estimator-id-15\" type=\"checkbox\" checked><label for=\"sk-estimator-id-15\" class=\"sk-toggleable__label sk-toggleable__label-arrow\">SGDRegressor</label><div class=\"sk-toggleable__content\"><pre>SGDRegressor()</pre></div></div></div></div></div>"
     },
     "execution_count": 234,
     "metadata": {},
     "output_type": "execute_result"
    }
   ],
   "source": [
    "reg.fit(X_train, y_train)"
   ],
   "metadata": {
    "collapsed": false
   }
  },
  {
   "cell_type": "code",
   "execution_count": 235,
   "outputs": [
    {
     "data": {
      "text/plain": "array([7.94123407e+15])"
     },
     "execution_count": 235,
     "metadata": {},
     "output_type": "execute_result"
    }
   ],
   "source": [
    "reg.coef_"
   ],
   "metadata": {
    "collapsed": false
   }
  },
  {
   "cell_type": "code",
   "execution_count": 236,
   "outputs": [
    {
     "data": {
      "text/plain": "array([-2.57584407e+13])"
     },
     "execution_count": 236,
     "metadata": {},
     "output_type": "execute_result"
    }
   ],
   "source": [
    "reg.intercept_"
   ],
   "metadata": {
    "collapsed": false
   }
  },
  {
   "cell_type": "code",
   "execution_count": 237,
   "outputs": [
    {
     "name": "stderr",
     "output_type": "stream",
     "text": [
      "/home/eog/Documents/Python_pr/python-ai/.venv/lib/python3.10/site-packages/sklearn/base.py:450: UserWarning: X does not have valid feature names, but SGDRegressor was fitted with feature names\n",
      "  warnings.warn(\n"
     ]
    },
    {
     "data": {
      "text/plain": "array([1.98530826e+20])"
     },
     "execution_count": 237,
     "metadata": {},
     "output_type": "execute_result"
    }
   ],
   "source": [
    "reg.predict([[25000, ]])"
   ],
   "metadata": {
    "collapsed": false
   }
  },
  {
   "cell_type": "code",
   "execution_count": 238,
   "outputs": [],
   "source": [
    "y_pred = reg.predict(X_test)"
   ],
   "metadata": {
    "collapsed": false
   }
  },
  {
   "cell_type": "code",
   "execution_count": 239,
   "outputs": [
    {
     "data": {
      "text/plain": "array([4.32399938e+19, 2.01066804e+20, 2.16200634e+19, ...,\n       4.10781437e+19, 4.32399208e+18, 5.18880208e+20])"
     },
     "execution_count": 239,
     "metadata": {},
     "output_type": "execute_result"
    }
   ],
   "source": [
    "y_pred"
   ],
   "metadata": {
    "collapsed": false
   }
  },
  {
   "cell_type": "code",
   "execution_count": 240,
   "outputs": [
    {
     "data": {
      "text/plain": "-7.979343686634237e+25"
     },
     "execution_count": 240,
     "metadata": {},
     "output_type": "execute_result"
    }
   ],
   "source": [
    "reg.score(X_test, y_test)"
   ],
   "metadata": {
    "collapsed": false
   }
  },
  {
   "cell_type": "code",
   "execution_count": 241,
   "outputs": [],
   "source": [
    "from sklearn.metrics import r2_score"
   ],
   "metadata": {
    "collapsed": false
   }
  },
  {
   "cell_type": "code",
   "execution_count": 242,
   "outputs": [
    {
     "data": {
      "text/plain": "-7.979343686634237e+25"
     },
     "execution_count": 242,
     "metadata": {},
     "output_type": "execute_result"
    }
   ],
   "source": [
    "r2_score(y_test, y_pred)"
   ],
   "metadata": {
    "collapsed": false
   }
  },
  {
   "cell_type": "code",
   "execution_count": 243,
   "outputs": [],
   "source": [
    "y_true = (np.array([1, 2, 3, 4, 5]) - np.array([1, 2, 3, 4, 5]).mean()) / np.array([1, 2, 3, 4, 5]).std()"
   ],
   "metadata": {
    "collapsed": false
   }
  },
  {
   "cell_type": "code",
   "execution_count": 244,
   "outputs": [
    {
     "data": {
      "text/plain": "0.0"
     },
     "execution_count": 244,
     "metadata": {},
     "output_type": "execute_result"
    }
   ],
   "source": [
    "np.array(y_true).mean()"
   ],
   "metadata": {
    "collapsed": false
   }
  },
  {
   "cell_type": "code",
   "execution_count": 245,
   "outputs": [],
   "source": [
    "y_pred = ((np.array([5, 4, 3, 2, 1]) * -1) - (np.array([5, 4, 3, 2, 1]) * -1).mean()) / (np.array([5, 4, 3, 2, 1]) * -1).std()"
   ],
   "metadata": {
    "collapsed": false
   }
  },
  {
   "cell_type": "code",
   "execution_count": 246,
   "outputs": [
    {
     "data": {
      "text/plain": "1.0"
     },
     "execution_count": 246,
     "metadata": {},
     "output_type": "execute_result"
    }
   ],
   "source": [
    "r2_score(y_true, y_pred)"
   ],
   "metadata": {
    "collapsed": false
   }
  },
  {
   "cell_type": "code",
   "execution_count": 247,
   "outputs": [],
   "source": [
    "y_true = [1,3,2,4,5]"
   ],
   "metadata": {
    "collapsed": false
   }
  },
  {
   "cell_type": "code",
   "execution_count": 248,
   "outputs": [],
   "source": [
    "y_pred = [1,2,3,4,5]"
   ],
   "metadata": {
    "collapsed": false
   }
  },
  {
   "cell_type": "code",
   "execution_count": 249,
   "outputs": [
    {
     "data": {
      "text/plain": "0.8"
     },
     "execution_count": 249,
     "metadata": {},
     "output_type": "execute_result"
    }
   ],
   "source": [
    "sklearn.metrics.r2_score(y_true, y_pred)"
   ],
   "metadata": {
    "collapsed": false
   }
  },
  {
   "cell_type": "code",
   "execution_count": 250,
   "outputs": [],
   "source": [
    "import sklearn.metrics"
   ],
   "metadata": {
    "collapsed": false
   }
  },
  {
   "cell_type": "code",
   "execution_count": 251,
   "outputs": [
    {
     "data": {
      "text/plain": "1"
     },
     "execution_count": 251,
     "metadata": {},
     "output_type": "execute_result"
    }
   ],
   "source": [
    "sklearn.metrics.max_error(y_true, y_pred)"
   ],
   "metadata": {
    "collapsed": false
   }
  },
  {
   "cell_type": "code",
   "execution_count": 252,
   "outputs": [
    {
     "data": {
      "text/plain": "0.6324555320336759"
     },
     "execution_count": 252,
     "metadata": {},
     "output_type": "execute_result"
    }
   ],
   "source": [
    "np.sqrt(sklearn.metrics.mean_squared_error(y_true, y_pred))"
   ],
   "metadata": {
    "collapsed": false
   }
  },
  {
   "cell_type": "code",
   "execution_count": 253,
   "outputs": [
    {
     "data": {
      "text/plain": "        Total_Area\n52865     8984.283\n117841    2722.510\n78577    29675.359\n34765     2722.510\n23369   103455.000\n...            ...\n119879    2722.510\n103694    1361.255\n131932    2722.510\n146867   65340.000\n121958     544.502\n\n[117912 rows x 1 columns]",
      "text/html": "<div>\n<style scoped>\n    .dataframe tbody tr th:only-of-type {\n        vertical-align: middle;\n    }\n\n    .dataframe tbody tr th {\n        vertical-align: top;\n    }\n\n    .dataframe thead th {\n        text-align: right;\n    }\n</style>\n<table border=\"1\" class=\"dataframe\">\n  <thead>\n    <tr style=\"text-align: right;\">\n      <th></th>\n      <th>Total_Area</th>\n    </tr>\n  </thead>\n  <tbody>\n    <tr>\n      <th>52865</th>\n      <td>8984.283</td>\n    </tr>\n    <tr>\n      <th>117841</th>\n      <td>2722.510</td>\n    </tr>\n    <tr>\n      <th>78577</th>\n      <td>29675.359</td>\n    </tr>\n    <tr>\n      <th>34765</th>\n      <td>2722.510</td>\n    </tr>\n    <tr>\n      <th>23369</th>\n      <td>103455.000</td>\n    </tr>\n    <tr>\n      <th>...</th>\n      <td>...</td>\n    </tr>\n    <tr>\n      <th>119879</th>\n      <td>2722.510</td>\n    </tr>\n    <tr>\n      <th>103694</th>\n      <td>1361.255</td>\n    </tr>\n    <tr>\n      <th>131932</th>\n      <td>2722.510</td>\n    </tr>\n    <tr>\n      <th>146867</th>\n      <td>65340.000</td>\n    </tr>\n    <tr>\n      <th>121958</th>\n      <td>544.502</td>\n    </tr>\n  </tbody>\n</table>\n<p>117912 rows × 1 columns</p>\n</div>"
     },
     "execution_count": 253,
     "metadata": {},
     "output_type": "execute_result"
    }
   ],
   "source": [
    "X_train"
   ],
   "metadata": {
    "collapsed": false
   }
  },
  {
   "cell_type": "code",
   "execution_count": 253,
   "outputs": [],
   "source": [],
   "metadata": {
    "collapsed": false
   }
  },
  {
   "cell_type": "code",
   "execution_count": 254,
   "outputs": [
    {
     "data": {
      "text/plain": "        Total_Area\n52865     8984.283\n117841    2722.510\n78577    29675.359\n34765     2722.510\n23369   103455.000\n...            ...\n119879    2722.510\n103694    1361.255\n131932    2722.510\n146867   65340.000\n121958     544.502\n\n[117912 rows x 1 columns]",
      "text/html": "<div>\n<style scoped>\n    .dataframe tbody tr th:only-of-type {\n        vertical-align: middle;\n    }\n\n    .dataframe tbody tr th {\n        vertical-align: top;\n    }\n\n    .dataframe thead th {\n        text-align: right;\n    }\n</style>\n<table border=\"1\" class=\"dataframe\">\n  <thead>\n    <tr style=\"text-align: right;\">\n      <th></th>\n      <th>Total_Area</th>\n    </tr>\n  </thead>\n  <tbody>\n    <tr>\n      <th>52865</th>\n      <td>8984.283</td>\n    </tr>\n    <tr>\n      <th>117841</th>\n      <td>2722.510</td>\n    </tr>\n    <tr>\n      <th>78577</th>\n      <td>29675.359</td>\n    </tr>\n    <tr>\n      <th>34765</th>\n      <td>2722.510</td>\n    </tr>\n    <tr>\n      <th>23369</th>\n      <td>103455.000</td>\n    </tr>\n    <tr>\n      <th>...</th>\n      <td>...</td>\n    </tr>\n    <tr>\n      <th>119879</th>\n      <td>2722.510</td>\n    </tr>\n    <tr>\n      <th>103694</th>\n      <td>1361.255</td>\n    </tr>\n    <tr>\n      <th>131932</th>\n      <td>2722.510</td>\n    </tr>\n    <tr>\n      <th>146867</th>\n      <td>65340.000</td>\n    </tr>\n    <tr>\n      <th>121958</th>\n      <td>544.502</td>\n    </tr>\n  </tbody>\n</table>\n<p>117912 rows × 1 columns</p>\n</div>"
     },
     "execution_count": 254,
     "metadata": {},
     "output_type": "execute_result"
    }
   ],
   "source": [
    "X_train"
   ],
   "metadata": {
    "collapsed": false
   }
  },
  {
   "cell_type": "code",
   "execution_count": 255,
   "outputs": [
    {
     "data": {
      "text/plain": "52865       2800000\n117841     16500000\n78577      35000000\n34765      20000000\n23369     150000000\n            ...    \n119879     23500000\n103694     15000000\n131932       150000\n146867     80000000\n121958      4500000\nName: price, Length: 117912, dtype: int64"
     },
     "execution_count": 255,
     "metadata": {},
     "output_type": "execute_result"
    }
   ],
   "source": [
    "y_train"
   ],
   "metadata": {
    "collapsed": false
   }
  },
  {
   "cell_type": "code",
   "execution_count": 256,
   "outputs": [
    {
     "data": {
      "text/plain": "        Total_Area\n49309     5445.000\n42561    25319.343\n1398      2722.510\n81279      544.502\n18347     2722.510\n...            ...\n8535      1089.004\n145116     816.753\n19147     5172.769\n45560      544.502\n133910   65340.000\n\n[50534 rows x 1 columns]",
      "text/html": "<div>\n<style scoped>\n    .dataframe tbody tr th:only-of-type {\n        vertical-align: middle;\n    }\n\n    .dataframe tbody tr th {\n        vertical-align: top;\n    }\n\n    .dataframe thead th {\n        text-align: right;\n    }\n</style>\n<table border=\"1\" class=\"dataframe\">\n  <thead>\n    <tr style=\"text-align: right;\">\n      <th></th>\n      <th>Total_Area</th>\n    </tr>\n  </thead>\n  <tbody>\n    <tr>\n      <th>49309</th>\n      <td>5445.000</td>\n    </tr>\n    <tr>\n      <th>42561</th>\n      <td>25319.343</td>\n    </tr>\n    <tr>\n      <th>1398</th>\n      <td>2722.510</td>\n    </tr>\n    <tr>\n      <th>81279</th>\n      <td>544.502</td>\n    </tr>\n    <tr>\n      <th>18347</th>\n      <td>2722.510</td>\n    </tr>\n    <tr>\n      <th>...</th>\n      <td>...</td>\n    </tr>\n    <tr>\n      <th>8535</th>\n      <td>1089.004</td>\n    </tr>\n    <tr>\n      <th>145116</th>\n      <td>816.753</td>\n    </tr>\n    <tr>\n      <th>19147</th>\n      <td>5172.769</td>\n    </tr>\n    <tr>\n      <th>45560</th>\n      <td>544.502</td>\n    </tr>\n    <tr>\n      <th>133910</th>\n      <td>65340.000</td>\n    </tr>\n  </tbody>\n</table>\n<p>50534 rows × 1 columns</p>\n</div>"
     },
     "execution_count": 256,
     "metadata": {},
     "output_type": "execute_result"
    }
   ],
   "source": [
    "X_test"
   ],
   "metadata": {
    "collapsed": false
   }
  },
  {
   "cell_type": "code",
   "execution_count": 257,
   "outputs": [
    {
     "data": {
      "text/plain": "49309     87500000\n42561        55000\n1398      21800000\n81279      6500000\n18347        75000\n            ...   \n8535       5000000\n145116     9000000\n19147     40000000\n45560      3200000\n133910    90000000\nName: price, Length: 50534, dtype: int64"
     },
     "execution_count": 257,
     "metadata": {},
     "output_type": "execute_result"
    }
   ],
   "source": [
    "y_test"
   ],
   "metadata": {
    "collapsed": false
   }
  },
  {
   "cell_type": "code",
   "execution_count": 258,
   "outputs": [],
   "source": [
    "import tensorflow as tf\n",
    "from tensorflow import keras"
   ],
   "metadata": {
    "collapsed": false
   }
  },
  {
   "cell_type": "code",
   "execution_count": 259,
   "outputs": [],
   "source": [
    "model = keras.Sequential()\n",
    "\n",
    "model.add(keras.layers.Flatten(input_shape=(1, )))\n",
    "model.add(keras.layers.Dense(64, activation='relu', name='dense_1'))\n",
    "model.add(keras.layers.Dense(8, activation='relu', name='dense_2'))\n",
    "model.add(keras.layers.Dense(1, activation='linear', name='dense_output'))"
   ],
   "metadata": {
    "collapsed": false
   }
  },
  {
   "cell_type": "code",
   "execution_count": 260,
   "outputs": [
    {
     "name": "stdout",
     "output_type": "stream",
     "text": [
      "Model: \"sequential_1\"\n",
      "_________________________________________________________________\n",
      " Layer (type)                Output Shape              Param #   \n",
      "=================================================================\n",
      " flatten_1 (Flatten)         (None, 1)                 0         \n",
      "                                                                 \n",
      " dense_1 (Dense)             (None, 64)                128       \n",
      "                                                                 \n",
      " dense_2 (Dense)             (None, 8)                 520       \n",
      "                                                                 \n",
      " dense_output (Dense)        (None, 1)                 9         \n",
      "                                                                 \n",
      "=================================================================\n",
      "Total params: 657\n",
      "Trainable params: 657\n",
      "Non-trainable params: 0\n",
      "_________________________________________________________________\n"
     ]
    }
   ],
   "source": [
    "model.summary()"
   ],
   "metadata": {
    "collapsed": false
   }
  },
  {
   "cell_type": "code",
   "execution_count": 261,
   "outputs": [],
   "source": [
    "model.compile(optimizer='adam',\n",
    "              loss='mse',\n",
    "              metrics=['mape'])"
   ],
   "metadata": {
    "collapsed": false
   }
  },
  {
   "cell_type": "code",
   "execution_count": 262,
   "outputs": [
    {
     "name": "stdout",
     "output_type": "stream",
     "text": [
      "Epoch 1/10\n"
     ]
    },
    {
     "name": "stderr",
     "output_type": "stream",
     "text": [
      "/home/eog/Documents/Python_pr/python-ai/.venv/lib/python3.10/site-packages/keras/engine/data_adapter.py:1699: FutureWarning: The behavior of `series[i:j]` with an integer-dtype index is deprecated. In a future version, this will be treated as *label-based* indexing, consistent with e.g. `series[i]` lookups. To retain the old behavior, use `series.iloc[i:j]`. To get the future behavior, use `series.loc[i:j]`.\n",
      "  return t[start:end]\n"
     ]
    },
    {
     "name": "stdout",
     "output_type": "stream",
     "text": [
      "2948/2948 [==============================] - 6s 2ms/step - loss: nan - mape: nan - val_loss: nan - val_mape: nan\n",
      "Epoch 2/10\n",
      "2948/2948 [==============================] - 5s 2ms/step - loss: nan - mape: nan - val_loss: nan - val_mape: nan\n",
      "Epoch 3/10\n",
      "2948/2948 [==============================] - 6s 2ms/step - loss: nan - mape: nan - val_loss: nan - val_mape: nan\n",
      "Epoch 4/10\n",
      "2948/2948 [==============================] - 5s 2ms/step - loss: nan - mape: nan - val_loss: nan - val_mape: nan\n",
      "Epoch 5/10\n",
      "2948/2948 [==============================] - 6s 2ms/step - loss: nan - mape: nan - val_loss: nan - val_mape: nan\n",
      "Epoch 6/10\n",
      "2948/2948 [==============================] - 5s 2ms/step - loss: nan - mape: nan - val_loss: nan - val_mape: nan\n",
      "Epoch 7/10\n",
      "2948/2948 [==============================] - 5s 2ms/step - loss: nan - mape: nan - val_loss: nan - val_mape: nan\n",
      "Epoch 8/10\n",
      "2948/2948 [==============================] - 5s 2ms/step - loss: nan - mape: nan - val_loss: nan - val_mape: nan\n",
      "Epoch 9/10\n",
      "2948/2948 [==============================] - 6s 2ms/step - loss: nan - mape: nan - val_loss: nan - val_mape: nan\n",
      "Epoch 10/10\n",
      "2948/2948 [==============================] - 5s 2ms/step - loss: nan - mape: nan - val_loss: nan - val_mape: nan\n"
     ]
    }
   ],
   "source": [
    "history = model.fit(X_train,\n",
    "                    y_train,\n",
    "                    epochs=10,\n",
    "                    verbose=1,\n",
    "                    validation_split=0.2,\n",
    "                    batch_size=32,\n",
    "                    #callbacks=[tensorboard_callback]\n",
    "                    )"
   ],
   "metadata": {
    "collapsed": false
   }
  },
  {
   "cell_type": "code",
   "execution_count": 263,
   "outputs": [
    {
     "name": "stdout",
     "output_type": "stream",
     "text": [
      "1580/1580 [==============================] - 2s 1ms/step - loss: nan - mape: nan\n"
     ]
    },
    {
     "data": {
      "text/plain": "[nan, nan]"
     },
     "execution_count": 263,
     "metadata": {},
     "output_type": "execute_result"
    }
   ],
   "source": [
    "model.evaluate(X_test, y_test)"
   ],
   "metadata": {
    "collapsed": false
   }
  },
  {
   "cell_type": "code",
   "execution_count": 264,
   "outputs": [
    {
     "name": "stdout",
     "output_type": "stream",
     "text": [
      "1580/1580 [==============================] - 2s 1ms/step\n"
     ]
    }
   ],
   "source": [
    "y_pred = model.predict(X_test)"
   ],
   "metadata": {
    "collapsed": false
   }
  },
  {
   "cell_type": "code",
   "execution_count": 265,
   "outputs": [
    {
     "ename": "ValueError",
     "evalue": "Input contains NaN.",
     "output_type": "error",
     "traceback": [
      "\u001B[0;31m---------------------------------------------------------------------------\u001B[0m",
      "\u001B[0;31mValueError\u001B[0m                                Traceback (most recent call last)",
      "Cell \u001B[0;32mIn [265], line 1\u001B[0m\n\u001B[0;32m----> 1\u001B[0m \u001B[43msklearn\u001B[49m\u001B[38;5;241;43m.\u001B[39;49m\u001B[43mmetrics\u001B[49m\u001B[38;5;241;43m.\u001B[39;49m\u001B[43mr2_score\u001B[49m\u001B[43m(\u001B[49m\u001B[43my_test\u001B[49m\u001B[43m,\u001B[49m\u001B[43m \u001B[49m\u001B[43my_pred\u001B[49m\u001B[43m)\u001B[49m\n",
      "File \u001B[0;32m~/Documents/Python_pr/python-ai/.venv/lib/python3.10/site-packages/sklearn/metrics/_regression.py:911\u001B[0m, in \u001B[0;36mr2_score\u001B[0;34m(y_true, y_pred, sample_weight, multioutput, force_finite)\u001B[0m\n\u001B[1;32m    784\u001B[0m \u001B[38;5;28;01mdef\u001B[39;00m \u001B[38;5;21mr2_score\u001B[39m(\n\u001B[1;32m    785\u001B[0m     y_true,\n\u001B[1;32m    786\u001B[0m     y_pred,\n\u001B[0;32m   (...)\u001B[0m\n\u001B[1;32m    790\u001B[0m     force_finite\u001B[38;5;241m=\u001B[39m\u001B[38;5;28;01mTrue\u001B[39;00m,\n\u001B[1;32m    791\u001B[0m ):\n\u001B[1;32m    792\u001B[0m     \u001B[38;5;124;03m\"\"\":math:`R^2` (coefficient of determination) regression score function.\u001B[39;00m\n\u001B[1;32m    793\u001B[0m \n\u001B[1;32m    794\u001B[0m \u001B[38;5;124;03m    Best possible score is 1.0 and it can be negative (because the\u001B[39;00m\n\u001B[0;32m   (...)\u001B[0m\n\u001B[1;32m    909\u001B[0m \u001B[38;5;124;03m    -inf\u001B[39;00m\n\u001B[1;32m    910\u001B[0m \u001B[38;5;124;03m    \"\"\"\u001B[39;00m\n\u001B[0;32m--> 911\u001B[0m     y_type, y_true, y_pred, multioutput \u001B[38;5;241m=\u001B[39m \u001B[43m_check_reg_targets\u001B[49m\u001B[43m(\u001B[49m\n\u001B[1;32m    912\u001B[0m \u001B[43m        \u001B[49m\u001B[43my_true\u001B[49m\u001B[43m,\u001B[49m\u001B[43m \u001B[49m\u001B[43my_pred\u001B[49m\u001B[43m,\u001B[49m\u001B[43m \u001B[49m\u001B[43mmultioutput\u001B[49m\n\u001B[1;32m    913\u001B[0m \u001B[43m    \u001B[49m\u001B[43m)\u001B[49m\n\u001B[1;32m    914\u001B[0m     check_consistent_length(y_true, y_pred, sample_weight)\n\u001B[1;32m    916\u001B[0m     \u001B[38;5;28;01mif\u001B[39;00m _num_samples(y_pred) \u001B[38;5;241m<\u001B[39m \u001B[38;5;241m2\u001B[39m:\n",
      "File \u001B[0;32m~/Documents/Python_pr/python-ai/.venv/lib/python3.10/site-packages/sklearn/metrics/_regression.py:102\u001B[0m, in \u001B[0;36m_check_reg_targets\u001B[0;34m(y_true, y_pred, multioutput, dtype)\u001B[0m\n\u001B[1;32m    100\u001B[0m check_consistent_length(y_true, y_pred)\n\u001B[1;32m    101\u001B[0m y_true \u001B[38;5;241m=\u001B[39m check_array(y_true, ensure_2d\u001B[38;5;241m=\u001B[39m\u001B[38;5;28;01mFalse\u001B[39;00m, dtype\u001B[38;5;241m=\u001B[39mdtype)\n\u001B[0;32m--> 102\u001B[0m y_pred \u001B[38;5;241m=\u001B[39m \u001B[43mcheck_array\u001B[49m\u001B[43m(\u001B[49m\u001B[43my_pred\u001B[49m\u001B[43m,\u001B[49m\u001B[43m \u001B[49m\u001B[43mensure_2d\u001B[49m\u001B[38;5;241;43m=\u001B[39;49m\u001B[38;5;28;43;01mFalse\u001B[39;49;00m\u001B[43m,\u001B[49m\u001B[43m \u001B[49m\u001B[43mdtype\u001B[49m\u001B[38;5;241;43m=\u001B[39;49m\u001B[43mdtype\u001B[49m\u001B[43m)\u001B[49m\n\u001B[1;32m    104\u001B[0m \u001B[38;5;28;01mif\u001B[39;00m y_true\u001B[38;5;241m.\u001B[39mndim \u001B[38;5;241m==\u001B[39m \u001B[38;5;241m1\u001B[39m:\n\u001B[1;32m    105\u001B[0m     y_true \u001B[38;5;241m=\u001B[39m y_true\u001B[38;5;241m.\u001B[39mreshape((\u001B[38;5;241m-\u001B[39m\u001B[38;5;241m1\u001B[39m, \u001B[38;5;241m1\u001B[39m))\n",
      "File \u001B[0;32m~/Documents/Python_pr/python-ai/.venv/lib/python3.10/site-packages/sklearn/utils/validation.py:899\u001B[0m, in \u001B[0;36mcheck_array\u001B[0;34m(array, accept_sparse, accept_large_sparse, dtype, order, copy, force_all_finite, ensure_2d, allow_nd, ensure_min_samples, ensure_min_features, estimator, input_name)\u001B[0m\n\u001B[1;32m    893\u001B[0m         \u001B[38;5;28;01mraise\u001B[39;00m \u001B[38;5;167;01mValueError\u001B[39;00m(\n\u001B[1;32m    894\u001B[0m             \u001B[38;5;124m\"\u001B[39m\u001B[38;5;124mFound array with dim \u001B[39m\u001B[38;5;132;01m%d\u001B[39;00m\u001B[38;5;124m. \u001B[39m\u001B[38;5;132;01m%s\u001B[39;00m\u001B[38;5;124m expected <= 2.\u001B[39m\u001B[38;5;124m\"\u001B[39m\n\u001B[1;32m    895\u001B[0m             \u001B[38;5;241m%\u001B[39m (array\u001B[38;5;241m.\u001B[39mndim, estimator_name)\n\u001B[1;32m    896\u001B[0m         )\n\u001B[1;32m    898\u001B[0m     \u001B[38;5;28;01mif\u001B[39;00m force_all_finite:\n\u001B[0;32m--> 899\u001B[0m         \u001B[43m_assert_all_finite\u001B[49m\u001B[43m(\u001B[49m\n\u001B[1;32m    900\u001B[0m \u001B[43m            \u001B[49m\u001B[43marray\u001B[49m\u001B[43m,\u001B[49m\n\u001B[1;32m    901\u001B[0m \u001B[43m            \u001B[49m\u001B[43minput_name\u001B[49m\u001B[38;5;241;43m=\u001B[39;49m\u001B[43minput_name\u001B[49m\u001B[43m,\u001B[49m\n\u001B[1;32m    902\u001B[0m \u001B[43m            \u001B[49m\u001B[43mestimator_name\u001B[49m\u001B[38;5;241;43m=\u001B[39;49m\u001B[43mestimator_name\u001B[49m\u001B[43m,\u001B[49m\n\u001B[1;32m    903\u001B[0m \u001B[43m            \u001B[49m\u001B[43mallow_nan\u001B[49m\u001B[38;5;241;43m=\u001B[39;49m\u001B[43mforce_all_finite\u001B[49m\u001B[43m \u001B[49m\u001B[38;5;241;43m==\u001B[39;49m\u001B[43m \u001B[49m\u001B[38;5;124;43m\"\u001B[39;49m\u001B[38;5;124;43mallow-nan\u001B[39;49m\u001B[38;5;124;43m\"\u001B[39;49m\u001B[43m,\u001B[49m\n\u001B[1;32m    904\u001B[0m \u001B[43m        \u001B[49m\u001B[43m)\u001B[49m\n\u001B[1;32m    906\u001B[0m \u001B[38;5;28;01mif\u001B[39;00m ensure_min_samples \u001B[38;5;241m>\u001B[39m \u001B[38;5;241m0\u001B[39m:\n\u001B[1;32m    907\u001B[0m     n_samples \u001B[38;5;241m=\u001B[39m _num_samples(array)\n",
      "File \u001B[0;32m~/Documents/Python_pr/python-ai/.venv/lib/python3.10/site-packages/sklearn/utils/validation.py:146\u001B[0m, in \u001B[0;36m_assert_all_finite\u001B[0;34m(X, allow_nan, msg_dtype, estimator_name, input_name)\u001B[0m\n\u001B[1;32m    124\u001B[0m         \u001B[38;5;28;01mif\u001B[39;00m (\n\u001B[1;32m    125\u001B[0m             \u001B[38;5;129;01mnot\u001B[39;00m allow_nan\n\u001B[1;32m    126\u001B[0m             \u001B[38;5;129;01mand\u001B[39;00m estimator_name\n\u001B[0;32m   (...)\u001B[0m\n\u001B[1;32m    130\u001B[0m             \u001B[38;5;66;03m# Improve the error message on how to handle missing values in\u001B[39;00m\n\u001B[1;32m    131\u001B[0m             \u001B[38;5;66;03m# scikit-learn.\u001B[39;00m\n\u001B[1;32m    132\u001B[0m             msg_err \u001B[38;5;241m+\u001B[39m\u001B[38;5;241m=\u001B[39m (\n\u001B[1;32m    133\u001B[0m                 \u001B[38;5;124mf\u001B[39m\u001B[38;5;124m\"\u001B[39m\u001B[38;5;130;01m\\n\u001B[39;00m\u001B[38;5;132;01m{\u001B[39;00mestimator_name\u001B[38;5;132;01m}\u001B[39;00m\u001B[38;5;124m does not accept missing values\u001B[39m\u001B[38;5;124m\"\u001B[39m\n\u001B[1;32m    134\u001B[0m                 \u001B[38;5;124m\"\u001B[39m\u001B[38;5;124m encoded as NaN natively. For supervised learning, you might want\u001B[39m\u001B[38;5;124m\"\u001B[39m\n\u001B[0;32m   (...)\u001B[0m\n\u001B[1;32m    144\u001B[0m                 \u001B[38;5;124m\"\u001B[39m\u001B[38;5;124m#estimators-that-handle-nan-values\u001B[39m\u001B[38;5;124m\"\u001B[39m\n\u001B[1;32m    145\u001B[0m             )\n\u001B[0;32m--> 146\u001B[0m         \u001B[38;5;28;01mraise\u001B[39;00m \u001B[38;5;167;01mValueError\u001B[39;00m(msg_err)\n\u001B[1;32m    148\u001B[0m \u001B[38;5;66;03m# for object dtype data, we only check for NaNs (GH-13254)\u001B[39;00m\n\u001B[1;32m    149\u001B[0m \u001B[38;5;28;01melif\u001B[39;00m X\u001B[38;5;241m.\u001B[39mdtype \u001B[38;5;241m==\u001B[39m np\u001B[38;5;241m.\u001B[39mdtype(\u001B[38;5;124m\"\u001B[39m\u001B[38;5;124mobject\u001B[39m\u001B[38;5;124m\"\u001B[39m) \u001B[38;5;129;01mand\u001B[39;00m \u001B[38;5;129;01mnot\u001B[39;00m allow_nan:\n",
      "\u001B[0;31mValueError\u001B[0m: Input contains NaN."
     ]
    }
   ],
   "source": [
    "sklearn.metrics.r2_score(y_test, y_pred)"
   ],
   "metadata": {
    "collapsed": false
   }
  },
  {
   "cell_type": "code",
   "execution_count": null,
   "outputs": [],
   "source": [],
   "metadata": {
    "collapsed": false
   }
  },
  {
   "cell_type": "code",
   "execution_count": null,
   "outputs": [],
   "source": [
    "y_pred = model.predict([25000, ])"
   ],
   "metadata": {
    "collapsed": false
   }
  },
  {
   "cell_type": "code",
   "execution_count": null,
   "outputs": [],
   "source": [
    "y_pred"
   ],
   "metadata": {
    "collapsed": false
   }
  },
  {
   "cell_type": "code",
   "execution_count": null,
   "outputs": [],
   "source": [],
   "metadata": {
    "collapsed": false
   }
  },
  {
   "cell_type": "code",
   "execution_count": null,
   "outputs": [],
   "source": [
    "X_train"
   ],
   "metadata": {
    "collapsed": false
   }
  },
  {
   "cell_type": "code",
   "execution_count": null,
   "outputs": [],
   "source": [
    "X_test"
   ],
   "metadata": {
    "collapsed": false
   }
  },
  {
   "cell_type": "code",
   "execution_count": null,
   "outputs": [],
   "source": [
    "y_train"
   ],
   "metadata": {
    "collapsed": false
   }
  },
  {
   "cell_type": "code",
   "execution_count": null,
   "outputs": [],
   "source": [
    "y_test"
   ],
   "metadata": {
    "collapsed": false
   }
  },
  {
   "cell_type": "code",
   "execution_count": null,
   "outputs": [],
   "source": [],
   "metadata": {
    "collapsed": false
   }
  },
  {
   "cell_type": "markdown",
   "source": [
    "Randon Forest Model"
   ],
   "metadata": {
    "collapsed": false
   }
  },
  {
   "cell_type": "code",
   "execution_count": null,
   "outputs": [],
   "source": [
    "from sklearn.ensemble import RandomForestRegressor"
   ],
   "metadata": {
    "collapsed": false
   }
  },
  {
   "cell_type": "code",
   "execution_count": null,
   "outputs": [],
   "source": [
    "regr = RandomForestRegressor(max_depth=5, random_state=0)"
   ],
   "metadata": {
    "collapsed": false
   }
  },
  {
   "cell_type": "code",
   "execution_count": null,
   "outputs": [],
   "source": [
    "regr"
   ],
   "metadata": {
    "collapsed": false
   }
  },
  {
   "cell_type": "code",
   "execution_count": null,
   "outputs": [],
   "source": [
    "regr.fit(X_train, y_train)"
   ],
   "metadata": {
    "collapsed": false
   }
  },
  {
   "cell_type": "code",
   "execution_count": null,
   "outputs": [],
   "source": [
    "regr.predict([[25000, ]])"
   ],
   "metadata": {
    "collapsed": false
   }
  },
  {
   "cell_type": "code",
   "execution_count": null,
   "outputs": [],
   "source": [
    "y_pred = regr.predict(X_test)"
   ],
   "metadata": {
    "collapsed": false
   }
  },
  {
   "cell_type": "code",
   "execution_count": null,
   "outputs": [],
   "source": [
    "sklearn.metrics.r2_score(y_test, y_pred)"
   ],
   "metadata": {
    "collapsed": false
   }
  },
  {
   "cell_type": "code",
   "execution_count": null,
   "outputs": [],
   "source": [],
   "metadata": {
    "collapsed": false
   }
  },
  {
   "cell_type": "code",
   "execution_count": null,
   "outputs": [],
   "source": [
    "from sklearn.ensemble import AdaBoostRegressor"
   ],
   "metadata": {
    "collapsed": false
   }
  },
  {
   "cell_type": "code",
   "execution_count": null,
   "outputs": [],
   "source": [
    "regr = AdaBoostRegressor(random_state=0, n_estimators=100)"
   ],
   "metadata": {
    "collapsed": false
   }
  },
  {
   "cell_type": "code",
   "execution_count": null,
   "outputs": [],
   "source": [
    "regr.fit(X_train, y_train)"
   ],
   "metadata": {
    "collapsed": false
   }
  },
  {
   "cell_type": "code",
   "execution_count": null,
   "outputs": [],
   "source": [
    "y_pred = regr.predict(X_test)"
   ],
   "metadata": {
    "collapsed": false
   }
  },
  {
   "cell_type": "code",
   "execution_count": null,
   "outputs": [],
   "source": [
    "sklearn.metrics.r2_score(y_test, y_pred)"
   ],
   "metadata": {
    "collapsed": false
   }
  },
  {
   "cell_type": "code",
   "execution_count": null,
   "outputs": [],
   "source": [],
   "metadata": {
    "collapsed": false
   }
  },
  {
   "cell_type": "code",
   "execution_count": null,
   "outputs": [],
   "source": [],
   "metadata": {
    "collapsed": false
   }
  },
  {
   "cell_type": "markdown",
   "source": [
    "Gradient Boosting"
   ],
   "metadata": {
    "collapsed": false
   }
  },
  {
   "cell_type": "code",
   "execution_count": null,
   "outputs": [],
   "source": [
    "from sklearn.ensemble import GradientBoostingRegressor"
   ],
   "metadata": {
    "collapsed": false
   }
  },
  {
   "cell_type": "code",
   "execution_count": null,
   "outputs": [],
   "source": [
    "reg = GradientBoostingRegressor(random_state=0).fit(X_train, y_train)"
   ],
   "metadata": {
    "collapsed": false
   }
  },
  {
   "cell_type": "code",
   "execution_count": null,
   "outputs": [],
   "source": [
    "y_pred = reg.predict(X_test)"
   ],
   "metadata": {
    "collapsed": false
   }
  },
  {
   "cell_type": "code",
   "execution_count": null,
   "outputs": [],
   "source": [
    "sklearn.metrics.r2_score(y_test, y_pred)"
   ],
   "metadata": {
    "collapsed": false
   }
  },
  {
   "cell_type": "code",
   "execution_count": null,
   "outputs": [],
   "source": [],
   "metadata": {
    "collapsed": false
   }
  },
  {
   "cell_type": "code",
   "execution_count": null,
   "outputs": [],
   "source": [
    "import xgboost as xgb"
   ],
   "metadata": {
    "collapsed": false
   }
  },
  {
   "cell_type": "code",
   "execution_count": null,
   "outputs": [],
   "source": [
    "reg = xgb.XGBRegressor(\n",
    "    tree_method=\"hist\",\n",
    "    #eval_metric=mean_absolute_error,\n",
    ")"
   ],
   "metadata": {
    "collapsed": false
   }
  },
  {
   "cell_type": "code",
   "execution_count": null,
   "outputs": [],
   "source": [
    "reg.fit(X_train, y_train)"
   ],
   "metadata": {
    "collapsed": false
   }
  },
  {
   "cell_type": "code",
   "execution_count": null,
   "outputs": [],
   "source": [
    "y_pred = reg.predict(X_test)"
   ],
   "metadata": {
    "collapsed": false
   }
  },
  {
   "cell_type": "code",
   "execution_count": null,
   "outputs": [],
   "source": [
    "sklearn.metrics.r2_score(y_test, y_pred)"
   ],
   "metadata": {
    "collapsed": false
   }
  }
 ],
 "metadata": {
  "kernelspec": {
   "display_name": "Python 3",
   "language": "python",
   "name": "python3"
  },
  "language_info": {
   "codemirror_mode": {
    "name": "ipython",
    "version": 2
   },
   "file_extension": ".py",
   "mimetype": "text/x-python",
   "name": "python",
   "nbconvert_exporter": "python",
   "pygments_lexer": "ipython2",
   "version": "2.7.6"
  }
 },
 "nbformat": 4,
 "nbformat_minor": 0
}
