{
 "cells": [
  {
   "cell_type": "code",
   "execution_count": 27,
   "metadata": {
    "collapsed": true
   },
   "outputs": [],
   "source": [
    "import numpy as np\n",
    "import pandas as pd\n",
    "import matplotlib.pyplot as plt\n",
    "import sklearn as sklearn"
   ]
  },
  {
   "cell_type": "markdown",
   "source": [
    "# Import"
   ],
   "metadata": {
    "collapsed": false
   }
  },
  {
   "cell_type": "code",
   "execution_count": 28,
   "outputs": [],
   "source": [
    "INPUT_FILE_PATH = './Entities.csv'"
   ],
   "metadata": {
    "collapsed": false
   }
  },
  {
   "cell_type": "code",
   "execution_count": 29,
   "outputs": [],
   "source": [
    "df = pd.read_csv(INPUT_FILE_PATH)"
   ],
   "metadata": {
    "collapsed": false
   }
  },
  {
   "cell_type": "code",
   "execution_count": 30,
   "outputs": [
    {
     "data": {
      "text/plain": "        Unnamed: 0  property_id  location_id  \\\n0                0       237062         3325   \n1                1       346905         3236   \n2                2       386513          764   \n3                3       656161          340   \n4                4       841645         3226   \n...            ...          ...          ...   \n168441      168441     17355248         6754   \n168442      168442     17355249          680   \n168443      168443     17355250         6757   \n168444      168444     17355251         6752   \n168445      168445     17355287        10045   \n\n                                                 page_url property_type  \\\n0       https://www.zameen.com/Property/g_10_g_10_2_gr...          Flat   \n1       https://www.zameen.com/Property/e_11_2_service...          Flat   \n2       https://www.zameen.com/Property/islamabad_g_15...         House   \n3       https://www.zameen.com/Property/islamabad_bani...         House   \n4       https://www.zameen.com/Property/dha_valley_dha...         House   \n...                                                   ...           ...   \n168441  https://www.zameen.com/Property/gulshan_e_maym...         House   \n168442  https://www.zameen.com/Property/gadap_town_gul...         House   \n168443  https://www.zameen.com/Property/gulshan_e_maym...         House   \n168444  https://www.zameen.com/Property/gulshan_e_maym...         House   \n168445  https://www.zameen.com/Property/bahria_town_ka...         House   \n\n           price             location       city      province_name  \\\n0       10000000                 G-10  Islamabad  Islamabad Capital   \n1        6900000                 E-11  Islamabad  Islamabad Capital   \n2       16500000                 G-15  Islamabad  Islamabad Capital   \n3       43500000            Bani Gala  Islamabad  Islamabad Capital   \n4        7000000          DHA Defence  Islamabad  Islamabad Capital   \n...          ...                  ...        ...                ...   \n168441  26500000           Gadap Town    Karachi              Sindh   \n168442  12500000           Gadap Town    Karachi              Sindh   \n168443  27000000           Gadap Town    Karachi              Sindh   \n168444  11000000           Gadap Town    Karachi              Sindh   \n168445   9000000  Bahria Town Karachi    Karachi              Sindh   \n\n         latitude  longitude  baths   purpose  bedrooms date_added  \\\n0       33.679890  73.012640      2  For Sale         2   2/4/2019   \n1       33.700993  72.971492      3  For Sale         3   5/4/2019   \n2       33.631486  72.926559      6  For Sale         5  7/17/2019   \n3       33.707573  73.151199      4  For Sale         4   4/5/2019   \n4       33.492591  73.301339      3  For Sale         3  7/10/2019   \n...           ...        ...    ...       ...       ...        ...   \n168441  25.029909  67.137192      0  For Sale         6  7/18/2019   \n168442  25.017951  67.136393      0  For Sale         3  7/18/2019   \n168443  25.015384  67.116330      0  For Sale         6  7/18/2019   \n168444  25.013265  67.120818      0  For Sale         3  7/18/2019   \n168445  25.113565  67.353811      3  For Sale         3  7/18/2019   \n\n                            agency  \\\n0                              NaN   \n1                              NaN   \n2                              NaN   \n3                              NaN   \n4                    Easy Property   \n...                            ...   \n168441       Al Shahab Enterprises   \n168442       Al Shahab Enterprises   \n168443       Al Shahab Enterprises   \n168444       Al Shahab Enterprises   \n168445  ZPN Real Estate & Builders   \n\n                                               agent  Total_Area  \n0                                                NaN    1089.004  \n1                                                NaN   15246.056  \n2                                                NaN    2178.008  \n3                                                NaN   10890.000  \n4       Muhammad Junaid Ceo Muhammad Shahid Director    2178.008  \n...                                              ...         ...  \n168441                                       Shahmir   26136.096  \n168442                                       Shahmir    2178.008  \n168443                                       Shahmir   26136.096  \n168444                                       Shahmir   21235.578  \n168445                                      Ali Raza   25591.594  \n\n[168446 rows x 18 columns]",
      "text/html": "<div>\n<style scoped>\n    .dataframe tbody tr th:only-of-type {\n        vertical-align: middle;\n    }\n\n    .dataframe tbody tr th {\n        vertical-align: top;\n    }\n\n    .dataframe thead th {\n        text-align: right;\n    }\n</style>\n<table border=\"1\" class=\"dataframe\">\n  <thead>\n    <tr style=\"text-align: right;\">\n      <th></th>\n      <th>Unnamed: 0</th>\n      <th>property_id</th>\n      <th>location_id</th>\n      <th>page_url</th>\n      <th>property_type</th>\n      <th>price</th>\n      <th>location</th>\n      <th>city</th>\n      <th>province_name</th>\n      <th>latitude</th>\n      <th>longitude</th>\n      <th>baths</th>\n      <th>purpose</th>\n      <th>bedrooms</th>\n      <th>date_added</th>\n      <th>agency</th>\n      <th>agent</th>\n      <th>Total_Area</th>\n    </tr>\n  </thead>\n  <tbody>\n    <tr>\n      <th>0</th>\n      <td>0</td>\n      <td>237062</td>\n      <td>3325</td>\n      <td>https://www.zameen.com/Property/g_10_g_10_2_gr...</td>\n      <td>Flat</td>\n      <td>10000000</td>\n      <td>G-10</td>\n      <td>Islamabad</td>\n      <td>Islamabad Capital</td>\n      <td>33.679890</td>\n      <td>73.012640</td>\n      <td>2</td>\n      <td>For Sale</td>\n      <td>2</td>\n      <td>2/4/2019</td>\n      <td>NaN</td>\n      <td>NaN</td>\n      <td>1089.004</td>\n    </tr>\n    <tr>\n      <th>1</th>\n      <td>1</td>\n      <td>346905</td>\n      <td>3236</td>\n      <td>https://www.zameen.com/Property/e_11_2_service...</td>\n      <td>Flat</td>\n      <td>6900000</td>\n      <td>E-11</td>\n      <td>Islamabad</td>\n      <td>Islamabad Capital</td>\n      <td>33.700993</td>\n      <td>72.971492</td>\n      <td>3</td>\n      <td>For Sale</td>\n      <td>3</td>\n      <td>5/4/2019</td>\n      <td>NaN</td>\n      <td>NaN</td>\n      <td>15246.056</td>\n    </tr>\n    <tr>\n      <th>2</th>\n      <td>2</td>\n      <td>386513</td>\n      <td>764</td>\n      <td>https://www.zameen.com/Property/islamabad_g_15...</td>\n      <td>House</td>\n      <td>16500000</td>\n      <td>G-15</td>\n      <td>Islamabad</td>\n      <td>Islamabad Capital</td>\n      <td>33.631486</td>\n      <td>72.926559</td>\n      <td>6</td>\n      <td>For Sale</td>\n      <td>5</td>\n      <td>7/17/2019</td>\n      <td>NaN</td>\n      <td>NaN</td>\n      <td>2178.008</td>\n    </tr>\n    <tr>\n      <th>3</th>\n      <td>3</td>\n      <td>656161</td>\n      <td>340</td>\n      <td>https://www.zameen.com/Property/islamabad_bani...</td>\n      <td>House</td>\n      <td>43500000</td>\n      <td>Bani Gala</td>\n      <td>Islamabad</td>\n      <td>Islamabad Capital</td>\n      <td>33.707573</td>\n      <td>73.151199</td>\n      <td>4</td>\n      <td>For Sale</td>\n      <td>4</td>\n      <td>4/5/2019</td>\n      <td>NaN</td>\n      <td>NaN</td>\n      <td>10890.000</td>\n    </tr>\n    <tr>\n      <th>4</th>\n      <td>4</td>\n      <td>841645</td>\n      <td>3226</td>\n      <td>https://www.zameen.com/Property/dha_valley_dha...</td>\n      <td>House</td>\n      <td>7000000</td>\n      <td>DHA Defence</td>\n      <td>Islamabad</td>\n      <td>Islamabad Capital</td>\n      <td>33.492591</td>\n      <td>73.301339</td>\n      <td>3</td>\n      <td>For Sale</td>\n      <td>3</td>\n      <td>7/10/2019</td>\n      <td>Easy Property</td>\n      <td>Muhammad Junaid Ceo Muhammad Shahid Director</td>\n      <td>2178.008</td>\n    </tr>\n    <tr>\n      <th>...</th>\n      <td>...</td>\n      <td>...</td>\n      <td>...</td>\n      <td>...</td>\n      <td>...</td>\n      <td>...</td>\n      <td>...</td>\n      <td>...</td>\n      <td>...</td>\n      <td>...</td>\n      <td>...</td>\n      <td>...</td>\n      <td>...</td>\n      <td>...</td>\n      <td>...</td>\n      <td>...</td>\n      <td>...</td>\n      <td>...</td>\n    </tr>\n    <tr>\n      <th>168441</th>\n      <td>168441</td>\n      <td>17355248</td>\n      <td>6754</td>\n      <td>https://www.zameen.com/Property/gulshan_e_maym...</td>\n      <td>House</td>\n      <td>26500000</td>\n      <td>Gadap Town</td>\n      <td>Karachi</td>\n      <td>Sindh</td>\n      <td>25.029909</td>\n      <td>67.137192</td>\n      <td>0</td>\n      <td>For Sale</td>\n      <td>6</td>\n      <td>7/18/2019</td>\n      <td>Al Shahab Enterprises</td>\n      <td>Shahmir</td>\n      <td>26136.096</td>\n    </tr>\n    <tr>\n      <th>168442</th>\n      <td>168442</td>\n      <td>17355249</td>\n      <td>680</td>\n      <td>https://www.zameen.com/Property/gadap_town_gul...</td>\n      <td>House</td>\n      <td>12500000</td>\n      <td>Gadap Town</td>\n      <td>Karachi</td>\n      <td>Sindh</td>\n      <td>25.017951</td>\n      <td>67.136393</td>\n      <td>0</td>\n      <td>For Sale</td>\n      <td>3</td>\n      <td>7/18/2019</td>\n      <td>Al Shahab Enterprises</td>\n      <td>Shahmir</td>\n      <td>2178.008</td>\n    </tr>\n    <tr>\n      <th>168443</th>\n      <td>168443</td>\n      <td>17355250</td>\n      <td>6757</td>\n      <td>https://www.zameen.com/Property/gulshan_e_maym...</td>\n      <td>House</td>\n      <td>27000000</td>\n      <td>Gadap Town</td>\n      <td>Karachi</td>\n      <td>Sindh</td>\n      <td>25.015384</td>\n      <td>67.116330</td>\n      <td>0</td>\n      <td>For Sale</td>\n      <td>6</td>\n      <td>7/18/2019</td>\n      <td>Al Shahab Enterprises</td>\n      <td>Shahmir</td>\n      <td>26136.096</td>\n    </tr>\n    <tr>\n      <th>168444</th>\n      <td>168444</td>\n      <td>17355251</td>\n      <td>6752</td>\n      <td>https://www.zameen.com/Property/gulshan_e_maym...</td>\n      <td>House</td>\n      <td>11000000</td>\n      <td>Gadap Town</td>\n      <td>Karachi</td>\n      <td>Sindh</td>\n      <td>25.013265</td>\n      <td>67.120818</td>\n      <td>0</td>\n      <td>For Sale</td>\n      <td>3</td>\n      <td>7/18/2019</td>\n      <td>Al Shahab Enterprises</td>\n      <td>Shahmir</td>\n      <td>21235.578</td>\n    </tr>\n    <tr>\n      <th>168445</th>\n      <td>168445</td>\n      <td>17355287</td>\n      <td>10045</td>\n      <td>https://www.zameen.com/Property/bahria_town_ka...</td>\n      <td>House</td>\n      <td>9000000</td>\n      <td>Bahria Town Karachi</td>\n      <td>Karachi</td>\n      <td>Sindh</td>\n      <td>25.113565</td>\n      <td>67.353811</td>\n      <td>3</td>\n      <td>For Sale</td>\n      <td>3</td>\n      <td>7/18/2019</td>\n      <td>ZPN Real Estate &amp; Builders</td>\n      <td>Ali Raza</td>\n      <td>25591.594</td>\n    </tr>\n  </tbody>\n</table>\n<p>168446 rows × 18 columns</p>\n</div>"
     },
     "execution_count": 30,
     "metadata": {},
     "output_type": "execute_result"
    }
   ],
   "source": [
    "df"
   ],
   "metadata": {
    "collapsed": false
   }
  },
  {
   "cell_type": "code",
   "execution_count": 31,
   "outputs": [
    {
     "name": "stdout",
     "output_type": "stream",
     "text": [
      "<class 'pandas.core.frame.DataFrame'>\n",
      "RangeIndex: 168446 entries, 0 to 168445\n",
      "Data columns (total 18 columns):\n",
      " #   Column         Non-Null Count   Dtype  \n",
      "---  ------         --------------   -----  \n",
      " 0   Unnamed: 0     168446 non-null  int64  \n",
      " 1   property_id    168446 non-null  int64  \n",
      " 2   location_id    168446 non-null  int64  \n",
      " 3   page_url       168446 non-null  object \n",
      " 4   property_type  168446 non-null  object \n",
      " 5   price          168446 non-null  int64  \n",
      " 6   location       168446 non-null  object \n",
      " 7   city           168446 non-null  object \n",
      " 8   province_name  168446 non-null  object \n",
      " 9   latitude       168446 non-null  float64\n",
      " 10  longitude      168446 non-null  float64\n",
      " 11  baths          168446 non-null  int64  \n",
      " 12  purpose        168446 non-null  object \n",
      " 13  bedrooms       168446 non-null  int64  \n",
      " 14  date_added     168446 non-null  object \n",
      " 15  agency         124375 non-null  object \n",
      " 16  agent          124374 non-null  object \n",
      " 17  Total_Area     168446 non-null  float64\n",
      "dtypes: float64(3), int64(6), object(9)\n",
      "memory usage: 23.1+ MB\n"
     ]
    }
   ],
   "source": [
    "df.info()"
   ],
   "metadata": {
    "collapsed": false
   }
  },
  {
   "cell_type": "code",
   "execution_count": 32,
   "outputs": [
    {
     "data": {
      "text/plain": "          Unnamed: 0   property_id    location_id         price  \\\ncount  168446.000000  1.684460e+05  168446.000000  1.684460e+05   \nmean    84222.500000  1.559626e+07    4375.936395  1.776576e+07   \nstd     48626.316059  2.251207e+06    3776.561581  3.531003e+07   \nmin         0.000000  8.657500e+04       1.000000  0.000000e+00   \n25%     42111.250000  1.488320e+07    1058.000000  1.750000e+05   \n50%     84222.500000  1.665851e+07    3286.000000  8.500000e+06   \n75%    126333.750000  1.708662e+07    7220.000000  1.950000e+07   \nmax    168445.000000  1.735772e+07   14220.000000  2.000000e+09   \n\n            latitude      longitude          baths       bedrooms  \\\ncount  168446.000000  168446.000000  168446.000000  168446.000000   \nmean       29.859519      71.239804       2.874227       3.179422   \nstd         3.807870       3.133042       2.463400       1.971401   \nmin        11.052446      25.906027       0.000000       0.000000   \n25%        24.948536      67.130363       0.000000       2.000000   \n50%        31.459784      73.056182       3.000000       3.000000   \n75%        33.560887      73.259870       4.000000       4.000000   \nmax        73.184088      80.161430     403.000000      68.000000   \n\n         Total_Area  \ncount  1.684460e+05  \nmean   1.394239e+04  \nstd    8.623647e+05  \nmin    0.000000e+00  \n25%    1.905757e+03  \n50%    4.356016e+03  \n75%    1.197904e+04  \nmax    3.387988e+08  ",
      "text/html": "<div>\n<style scoped>\n    .dataframe tbody tr th:only-of-type {\n        vertical-align: middle;\n    }\n\n    .dataframe tbody tr th {\n        vertical-align: top;\n    }\n\n    .dataframe thead th {\n        text-align: right;\n    }\n</style>\n<table border=\"1\" class=\"dataframe\">\n  <thead>\n    <tr style=\"text-align: right;\">\n      <th></th>\n      <th>Unnamed: 0</th>\n      <th>property_id</th>\n      <th>location_id</th>\n      <th>price</th>\n      <th>latitude</th>\n      <th>longitude</th>\n      <th>baths</th>\n      <th>bedrooms</th>\n      <th>Total_Area</th>\n    </tr>\n  </thead>\n  <tbody>\n    <tr>\n      <th>count</th>\n      <td>168446.000000</td>\n      <td>1.684460e+05</td>\n      <td>168446.000000</td>\n      <td>1.684460e+05</td>\n      <td>168446.000000</td>\n      <td>168446.000000</td>\n      <td>168446.000000</td>\n      <td>168446.000000</td>\n      <td>1.684460e+05</td>\n    </tr>\n    <tr>\n      <th>mean</th>\n      <td>84222.500000</td>\n      <td>1.559626e+07</td>\n      <td>4375.936395</td>\n      <td>1.776576e+07</td>\n      <td>29.859519</td>\n      <td>71.239804</td>\n      <td>2.874227</td>\n      <td>3.179422</td>\n      <td>1.394239e+04</td>\n    </tr>\n    <tr>\n      <th>std</th>\n      <td>48626.316059</td>\n      <td>2.251207e+06</td>\n      <td>3776.561581</td>\n      <td>3.531003e+07</td>\n      <td>3.807870</td>\n      <td>3.133042</td>\n      <td>2.463400</td>\n      <td>1.971401</td>\n      <td>8.623647e+05</td>\n    </tr>\n    <tr>\n      <th>min</th>\n      <td>0.000000</td>\n      <td>8.657500e+04</td>\n      <td>1.000000</td>\n      <td>0.000000e+00</td>\n      <td>11.052446</td>\n      <td>25.906027</td>\n      <td>0.000000</td>\n      <td>0.000000</td>\n      <td>0.000000e+00</td>\n    </tr>\n    <tr>\n      <th>25%</th>\n      <td>42111.250000</td>\n      <td>1.488320e+07</td>\n      <td>1058.000000</td>\n      <td>1.750000e+05</td>\n      <td>24.948536</td>\n      <td>67.130363</td>\n      <td>0.000000</td>\n      <td>2.000000</td>\n      <td>1.905757e+03</td>\n    </tr>\n    <tr>\n      <th>50%</th>\n      <td>84222.500000</td>\n      <td>1.665851e+07</td>\n      <td>3286.000000</td>\n      <td>8.500000e+06</td>\n      <td>31.459784</td>\n      <td>73.056182</td>\n      <td>3.000000</td>\n      <td>3.000000</td>\n      <td>4.356016e+03</td>\n    </tr>\n    <tr>\n      <th>75%</th>\n      <td>126333.750000</td>\n      <td>1.708662e+07</td>\n      <td>7220.000000</td>\n      <td>1.950000e+07</td>\n      <td>33.560887</td>\n      <td>73.259870</td>\n      <td>4.000000</td>\n      <td>4.000000</td>\n      <td>1.197904e+04</td>\n    </tr>\n    <tr>\n      <th>max</th>\n      <td>168445.000000</td>\n      <td>1.735772e+07</td>\n      <td>14220.000000</td>\n      <td>2.000000e+09</td>\n      <td>73.184088</td>\n      <td>80.161430</td>\n      <td>403.000000</td>\n      <td>68.000000</td>\n      <td>3.387988e+08</td>\n    </tr>\n  </tbody>\n</table>\n</div>"
     },
     "execution_count": 32,
     "metadata": {},
     "output_type": "execute_result"
    }
   ],
   "source": [
    "df.describe()"
   ],
   "metadata": {
    "collapsed": false
   }
  },
  {
   "cell_type": "code",
   "execution_count": 33,
   "outputs": [],
   "source": [
    "X = df[['Total_Area']].copy()"
   ],
   "metadata": {
    "collapsed": false
   }
  },
  {
   "cell_type": "code",
   "execution_count": 34,
   "outputs": [
    {
     "data": {
      "text/plain": "pandas.core.frame.DataFrame"
     },
     "execution_count": 34,
     "metadata": {},
     "output_type": "execute_result"
    }
   ],
   "source": [
    "type(X)"
   ],
   "metadata": {
    "collapsed": false
   }
  },
  {
   "cell_type": "code",
   "execution_count": 35,
   "outputs": [
    {
     "data": {
      "text/plain": "        Total_Area\n0         1089.004\n1        15246.056\n2         2178.008\n3        10890.000\n4         2178.008\n...            ...\n168441   26136.096\n168442    2178.008\n168443   26136.096\n168444   21235.578\n168445   25591.594\n\n[168446 rows x 1 columns]",
      "text/html": "<div>\n<style scoped>\n    .dataframe tbody tr th:only-of-type {\n        vertical-align: middle;\n    }\n\n    .dataframe tbody tr th {\n        vertical-align: top;\n    }\n\n    .dataframe thead th {\n        text-align: right;\n    }\n</style>\n<table border=\"1\" class=\"dataframe\">\n  <thead>\n    <tr style=\"text-align: right;\">\n      <th></th>\n      <th>Total_Area</th>\n    </tr>\n  </thead>\n  <tbody>\n    <tr>\n      <th>0</th>\n      <td>1089.004</td>\n    </tr>\n    <tr>\n      <th>1</th>\n      <td>15246.056</td>\n    </tr>\n    <tr>\n      <th>2</th>\n      <td>2178.008</td>\n    </tr>\n    <tr>\n      <th>3</th>\n      <td>10890.000</td>\n    </tr>\n    <tr>\n      <th>4</th>\n      <td>2178.008</td>\n    </tr>\n    <tr>\n      <th>...</th>\n      <td>...</td>\n    </tr>\n    <tr>\n      <th>168441</th>\n      <td>26136.096</td>\n    </tr>\n    <tr>\n      <th>168442</th>\n      <td>2178.008</td>\n    </tr>\n    <tr>\n      <th>168443</th>\n      <td>26136.096</td>\n    </tr>\n    <tr>\n      <th>168444</th>\n      <td>21235.578</td>\n    </tr>\n    <tr>\n      <th>168445</th>\n      <td>25591.594</td>\n    </tr>\n  </tbody>\n</table>\n<p>168446 rows × 1 columns</p>\n</div>"
     },
     "execution_count": 35,
     "metadata": {},
     "output_type": "execute_result"
    }
   ],
   "source": [
    "X"
   ],
   "metadata": {
    "collapsed": false
   }
  },
  {
   "cell_type": "code",
   "execution_count": 36,
   "outputs": [],
   "source": [
    "y = df['price']"
   ],
   "metadata": {
    "collapsed": false
   }
  },
  {
   "cell_type": "code",
   "execution_count": 37,
   "outputs": [
    {
     "data": {
      "text/plain": "0         10000000\n1          6900000\n2         16500000\n3         43500000\n4          7000000\n            ...   \n168441    26500000\n168442    12500000\n168443    27000000\n168444    11000000\n168445     9000000\nName: price, Length: 168446, dtype: int64"
     },
     "execution_count": 37,
     "metadata": {},
     "output_type": "execute_result"
    }
   ],
   "source": [
    "y"
   ],
   "metadata": {
    "collapsed": false
   }
  }
 ],
 "metadata": {
  "kernelspec": {
   "display_name": "Python 3",
   "language": "python",
   "name": "python3"
  },
  "language_info": {
   "codemirror_mode": {
    "name": "ipython",
    "version": 2
   },
   "file_extension": ".py",
   "mimetype": "text/x-python",
   "name": "python",
   "nbconvert_exporter": "python",
   "pygments_lexer": "ipython2",
   "version": "2.7.6"
  }
 },
 "nbformat": 4,
 "nbformat_minor": 0
}
